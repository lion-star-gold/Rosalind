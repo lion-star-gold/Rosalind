{
 "cells": [
  {
   "cell_type": "code",
   "execution_count": 1,
   "metadata": {},
   "outputs": [],
   "source": [
    "dnastrand = \"AGCTTTTCATTCTGACTGCAACGGGCAATATGTCTCTGTGTGGATTAAAAAAAGAGTGTCTGATAGCAGC\""
   ]
  },
  {
   "cell_type": "code",
   "execution_count": 19,
   "metadata": {},
   "outputs": [
    {
     "name": "stdout",
     "output_type": "stream",
     "text": [
      "occurrences of A: 20\n",
      "occurrences of C: 12\n",
      "occurrences of G: 17\n",
      "occurrences of T: 21\n"
     ]
    }
   ],
   "source": [
    "substringA = \"A\"\n",
    "substringT = \"T\"\n",
    "substringG = \"G\"\n",
    "substringC = \"C\"\n",
    "\n",
    "print(\"occurrences of A:\", dnastrand.count(\"A\"))\n",
    "print(\"occurrences of C:\", dnastrand.count(\"C\"))\n",
    "\n",
    "print(\"occurrences of G:\", dnastrand.count(\"G\"))\n",
    "print(\"occurrences of T:\", dnastrand.count(\"T\"))"
   ]
  },
  {
   "cell_type": "code",
   "execution_count": 20,
   "metadata": {},
   "outputs": [],
   "source": [
    "rosalindstrand = \"GCGGAGCATAGGTTACAAGGTAGCCTTCCCATTTCGTCGCATTGAGCCGTATGGCGATATAACGCTGTCCTGGGGCCATATGCTTGAGGAATATGTTGAACGACCTATAAGGTGGCAATGTTGCACAGGTGGCACGACCAGCGGGGCATGGGTCAAAGTGGTAGGGGACATGGAGAATCCAACGATGTCCTCTTATCGCTTGGGCCCCAGATCGGAAGTGCACGAGAGCCTCGAGTATGTCGACTGCAACCACGATCAAATTGGTATAGATCAACGTTATCTCCATCTTCGTCGACGTTGTGTTATGAATGAAAACCCCCTCAACCCAGAGTTGTTACACGTGATATTATTGCAGACGGACCTTACCTGCGGGAATCTTCAGCTATCTGGCGGAATCAACCGTGAAGCTCGATTATATCTGGTTGAGTGTGCAGGGAAGGGTCTTATATTATCATGATGAAGGACACTAACTAGAAACTGCGCTAGCTACTCAATCATACCTCAGAATGGGTCGGAAATTACATGTTCGGTAGATGTACAATCACCATCTAGTTATCATTTGAGCGGAGGCGGGGCTTGTCGGTGCTGCCCCGCCTGTCCGAGAAGACCCTCACCCTGATCGTGTAAACGCTCTGCGCTTTGGTGCAACCTATGATTCTGATGCTAAATGTAATAAGGGGTCGGCGCCTACTAACGGCAAGATATTGTGGCGGTCGAGGCAGCCCACCATATTTGTTTTCCTACCTGCTGCGATTTGAATAGAGCCCCCTGCGTTGCCCCCCTTTGCAACGTTGTTAGCGGTATGGAGTGGGCTCGTTATGTAAGTCCACGAAGGG\""
   ]
  },
  {
   "cell_type": "code",
   "execution_count": 21,
   "metadata": {},
   "outputs": [
    {
     "name": "stdout",
     "output_type": "stream",
     "text": [
      "occurrences of A: 201\n",
      "occurrences of C: 195\n",
      "occurrences of G: 225\n",
      "occurrences of T: 215\n"
     ]
    }
   ],
   "source": [
    "substringA = \"A\"\n",
    "substringT = \"T\"\n",
    "substringG = \"G\"\n",
    "substringC = \"C\"\n",
    "\n",
    "print(\"occurrences of A:\", rosalindstrand.count(\"A\"))\n",
    "print(\"occurrences of C:\", rosalindstrand.count(\"C\"))\n",
    "\n",
    "print(\"occurrences of G:\", rosalindstrand.count(\"G\"))\n",
    "print(\"occurrences of T:\", rosalindstrand.count(\"T\"))"
   ]
  },
  {
   "cell_type": "code",
   "execution_count": null,
   "metadata": {},
   "outputs": [],
   "source": []
  }
 ],
 "metadata": {
  "kernelspec": {
   "display_name": "Python 3",
   "language": "python",
   "name": "python3"
  },
  "language_info": {
   "codemirror_mode": {
    "name": "ipython",
    "version": 3
   },
   "file_extension": ".py",
   "mimetype": "text/x-python",
   "name": "python",
   "nbconvert_exporter": "python",
   "pygments_lexer": "ipython3",
   "version": "3.8.5"
  }
 },
 "nbformat": 4,
 "nbformat_minor": 4
}
