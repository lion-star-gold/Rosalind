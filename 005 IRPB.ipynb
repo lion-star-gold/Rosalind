{
 "cells": [
  {
   "cell_type": "code",
   "execution_count": 1,
   "metadata": {},
   "outputs": [],
   "source": [
    "#Given: Three positive integers k, m, and n, representing a population containing k+m+n organisms: k individuals are homozygous \n",
    "#dominant for a factor, m are heterozygous, and n are homozygous recessive.\n",
    "\n",
    "#Return: The probability that two randomly selected mating organisms will produce an individual possessing a dominant allele \n",
    "#(and thus displaying the dominant phenotype). Assume that any two organisms can mate."
   ]
  },
  {
   "cell_type": "code",
   "execution_count": 36,
   "metadata": {},
   "outputs": [],
   "source": [
    "k = 2  \n",
    "#dominant\n",
    "m = 2  \n",
    "#heterozygous\n",
    "n = 2   \n",
    "#homozygous\n",
    "total = k+m+n"
   ]
  },
  {
   "cell_type": "code",
   "execution_count": 37,
   "metadata": {},
   "outputs": [
    {
     "name": "stdout",
     "output_type": "stream",
     "text": [
      "0.9333333333333333\n"
     ]
    }
   ],
   "source": [
    "output = (n/total) * ((n-1)/(total-1))\n",
    "print(1-output)"
   ]
  },
  {
   "cell_type": "code",
   "execution_count": 38,
   "metadata": {},
   "outputs": [],
   "source": [
    "#output is the probability tha"
   ]
  },
  {
   "cell_type": "code",
   "execution_count": 39,
   "metadata": {},
   "outputs": [],
   "source": [
    "#hint: https://www.youtube.com/watch?v=8X7WNs6R2zQ"
   ]
  },
  {
   "cell_type": "code",
   "execution_count": 40,
   "metadata": {},
   "outputs": [],
   "source": [
    "import numpy as np"
   ]
  },
  {
   "cell_type": "code",
   "execution_count": 47,
   "metadata": {},
   "outputs": [],
   "source": [
    "#where 0 is dominant and 1 is recessive. \n",
    "GG = np.array([[0,0]])\n",
    "Gg = np.array([[0,1]])\n",
    "gg = np.array([[1,1]])\n",
    "each_prob = []\n",
    "each_dominant_fraction = []\n",
    "sum_probs = []"
   ]
  },
  {
   "cell_type": "code",
   "execution_count": 48,
   "metadata": {},
   "outputs": [],
   "source": [
    "def probabilityDominantAllele(k,m,n):\n",
    "    input = [k,m,n]\n",
    "    \n",
    "    for ii in range(len([k,m,n])):\n",
    "        for iii in range(len([k,m,n])):\n",
    "            t = k + m + n\n",
    "            if ii != iii:\n",
    "                probability = (input[ii]/ t) * (input[iii] / (t-1))\n",
    "            else:\n",
    "                probability = (input[ii]/ t) * (input[iii]-1)/ (t - 1)\n",
    "            each_prob.append(probability)\n",
    "    print(each_prob)\n",
    "    print(sum(each_prob)) #should equal 1\n",
    "    \n",
    "    for iT in [GG, Gg, gg]:\n",
    "        for i in [GG, Gg, gg]:\n",
    "            matrix = iT.T * i\n",
    "            Dominant_fraction = np.sum(matrix == 0)/4\n",
    "            each_dominant_fraction.append(Dominant_fraction)\n",
    "    print(each_dominant_fraction)\n",
    "    \n",
    "    for n in range(0,9):\n",
    "        sum_probs.append(each_dominant_fraction[n] * each_prob[n])\n",
    "    print(round(sum(sum_probs), 5))"
   ]
  },
  {
   "cell_type": "code",
   "execution_count": 49,
   "metadata": {},
   "outputs": [
    {
     "name": "stdout",
     "output_type": "stream",
     "text": [
      "[0.1414141414141414, 0.10606060606060606, 0.13434343434343435, 0.10606060606060605, 0.0707070707070707, 0.09595959595959595, 0.13434343434343435, 0.09595959595959597, 0.11515151515151516]\n",
      "0.9999999999999999\n",
      "[1.0, 1.0, 1.0, 1.0, 0.75, 0.5, 1.0, 0.5, 0.0]\n",
      "0.77121\n"
     ]
    }
   ],
   "source": [
    "probabilityDominantAllele(21,15,19)"
   ]
  },
  {
   "cell_type": "code",
   "execution_count": null,
   "metadata": {},
   "outputs": [],
   "source": []
  }
 ],
 "metadata": {
  "kernelspec": {
   "display_name": "Python 3",
   "language": "python",
   "name": "python3"
  },
  "language_info": {
   "codemirror_mode": {
    "name": "ipython",
    "version": 3
   },
   "file_extension": ".py",
   "mimetype": "text/x-python",
   "name": "python",
   "nbconvert_exporter": "python",
   "pygments_lexer": "ipython3",
   "version": "3.8.5"
  }
 },
 "nbformat": 4,
 "nbformat_minor": 4
}
