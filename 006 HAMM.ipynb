{
 "cells": [
  {
   "cell_type": "code",
   "execution_count": 1,
   "metadata": {},
   "outputs": [],
   "source": [
    "#Given two strings s and t of equal length, the Hamming distance between s and t, denoted dH(s,t), is the number of \n",
    "#corresponding symbols that differ in s and t."
   ]
  },
  {
   "cell_type": "code",
   "execution_count": 15,
   "metadata": {},
   "outputs": [
    {
     "name": "stdout",
     "output_type": "stream",
     "text": [
      "['T', 'G', 'C', 'T', 'C', 'G', 'G', 'C', 'T', 'G', 'T', 'C', 'A', 'G', 'C', 'C', 'A', 'C', 'G', 'C', 'A', 'A', 'C', 'A', 'G', 'C', 'A', 'C', 'C', 'G', 'G', 'A', 'T', 'C', 'C', 'A', 'A', 'A', 'C', 'G', 'C', 'G', 'A', 'A', 'A', 'C', 'T', 'T', 'G', 'G', 'C', 'T', 'C', 'A', 'T', 'A', 'T', 'C', 'C', 'A', 'C', 'A', 'T', 'A', 'C', 'T', 'C', 'G', 'A', 'C', 'G', 'C', 'C', 'A', 'T', 'C', 'C', 'A', 'A', 'A', 'C', 'C', 'A', 'A', 'T', 'T', 'C', 'T', 'A', 'C', 'T', 'A', 'C', 'G', 'G', 'G', 'T', 'C', 'G', 'A', 'C', 'G', 'A', 'C', 'C', 'A', 'A', 'T', 'A', 'T', 'A', 'C', 'G', 'C', 'G', 'T', 'C', 'C', 'T', 'G', 'C', 'T', 'A', 'G', 'T', 'A', 'A', 'T', 'G', 'A', 'A', 'A', 'G', 'C', 'T', 'T', 'T', 'G', 'A', 'T', 'T', 'T', 'T', 'C', 'T', 'G', 'G', 'C', 'T', 'C', 'T', 'G', 'G', 'G', 'C', 'G', 'C', 'C', 'C', 'G', 'A', 'G', 'A', 'T', 'C', 'A', 'A', 'T', 'A', 'G', 'G', 'A', 'T', 'G', 'C', 'G', 'C', 'T', 'G', 'C', 'G', 'G', 'A', 'G', 'T', 'C', 'G', 'T', 'T', 'G', 'A', 'A', 'A', 'T', 'C', 'C', 'C', 'A', 'T', 'C', 'T', 'C', 'T', 'A', 'A', 'C', 'A', 'A', 'T', 'T', 'G', 'C', 'G', 'C', 'G', 'T', 'T', 'A', 'T', 'T', 'G', 'G', 'C', 'T', 'A', 'G', 'A', 'G', 'T', 'G', 'G', 'A', 'T', 'A', 'G', 'A', 'G', 'G', 'T', 'G', 'G', 'G', 'C', 'A', 'C', 'C', 'A', 'C', 'A', 'A', 'A', 'G', 'G', 'C', 'C', 'A', 'A', 'C', 'T', 'A', 'A', 'T', 'G', 'C', 'T', 'G', 'C', 'G', 'A', 'G', 'G', 'G', 'A', 'A', 'G', 'T', 'G', 'G', 'T', 'C', 'C', 'T', 'C', 'C', 'T', 'G', 'G', 'G', 'C', 'A', 'A', 'C', 'C', 'C', 'G', 'T', 'C', 'G', 'T', 'A', 'A', 'A', 'T', 'G', 'C', 'T', 'G', 'T', 'A', 'C', 'C', 'G', 'T', 'T', 'G', 'A', 'C', 'T', 'T', 'G', 'A', 'T', 'A', 'G', 'C', 'C', 'T', 'G', 'C', 'C', 'C', 'T', 'A', 'A', 'T', 'G', 'G', 'T', 'C', 'A', 'T', 'C', 'T', 'A', 'G', 'A', 'G', 'T', 'T', 'G', 'G', 'A', 'G', 'C', 'A', 'G', 'C', 'G', 'C', 'C', 'G', 'T', 'G', 'T', 'A', 'C', 'G', 'G', 'G', 'G', 'G', 'C', 'A', 'C', 'C', 'C', 'G', 'C', 'A', 'G', 'A', 'C', 'G', 'C', 'G', 'G', 'A', 'G', 'G', 'C', 'G', 'T', 'G', 'T', 'C', 'G', 'C', 'G', 'C', 'A', 'C', 'T', 'C', 'T', 'G', 'T', 'A', 'T', 'T', 'A', 'T', 'T', 'A', 'A', 'T', 'A', 'G', 'T', 'T', 'C', 'G', 'A', 'T', 'C', 'G', 'G', 'T', 'T', 'A', 'A', 'G', 'T', 'C', 'C', 'T', 'A', 'C', 'A', 'A', 'G', 'G', 'T', 'T', 'T', 'A', 'T', 'G', 'A', 'G', 'A', 'C', 'T', 'C', 'T', 'T', 'C', 'G', 'C', 'T', 'C', 'C', 'C', 'C', 'A', 'G', 'C', 'G', 'G', 'A', 'C', 'G', 'C', 'T', 'G', 'C', 'A', 'T', 'T', 'T', 'C', 'A', 'G', 'C', 'T', 'A', 'T', 'G', 'G', 'C', 'T', 'T', 'C', 'T', 'T', 'A', 'G', 'G', 'G', 'A', 'A', 'A', 'A', 'T', 'C', 'C', 'C', 'G', 'G', 'T', 'T', 'G', 'T', 'G', 'T', 'T', 'C', 'C', 'G', 'T', 'T', 'C', 'G', 'G', 'A', 'A', 'A', 'C', 'T', 'G', 'C', 'G', 'A', 'G', 'G', 'T', 'G', 'C', 'A', 'T', 'T', 'G', 'C', 'A', 'A', 'G', 'T', 'T', 'T', 'G', 'C', 'G', 'T', 'C', 'G', 'A', 'A', 'G', 'A', 'G', 'T', 'T', 'T', 'A', 'C', 'G', 'C', 'C', 'T', 'A', 'G', 'T', 'G', 'G', 'G', 'T', 'A', 'A', 'T', 'A', 'C', 'T', 'C', 'G', 'G', 'A', 'T', 'C', 'G', 'T', 'T', 'A', 'T', 'A', 'C', 'C', 'A', 'A', 'C', 'A', 'G', 'A', 'T', 'C', 'T', 'A', 'G', 'T', 'A', 'C', 'G', 'T', 'T', 'C', 'C', 'A', 'G', 'G', 'G', 'T', 'C', 'T', 'A', 'A', 'G', 'T', 'G', 'T', 'T', 'T', 'T', 'G', 'G', 'C', 'A', 'G', 'A', 'C', 'C', 'T', 'C', 'A', 'T', 'T', 'C', 'C', 'G', 'A', 'T', 'C', 'G', 'G', 'G', 'T', 'A', 'A', 'C', 'T', 'A', 'A', 'G', 'G', 'A', 'T', 'G', 'G', 'G', 'A', 'A', 'C', 'T', 'T', 'T', 'C', 'C', 'C', 'C', 'A', 'G', 'T', 'C', 'T', 'C', 'G', 'A', 'A', 'T', 'T', 'A', 'G', 'A', 'C', 'A', 'C', 'C', 'C', 'A', 'A', 'A', 'G', 'T', 'A', 'A', 'C', 'C', 'G', 'C', 'A', 'G', 'A', 'G', 'T', 'A', 'G', 'T', 'T', 'C', 'G', 'A', 'G', 'G', 'T', 'C', 'T', 'G', 'A', 'T', 'G', 'A', 'C', 'T', 'C', 'G', 'C', 'G', 'A', 'G', 'A', 'G', 'G', 'C', 'A', 'T', 'G', 'A', 'C', 'A', 'C', 'A', 'T', 'A', 'G', 'T', 'C', 'C', 'C', 'A', 'C', 'G', 'C', 'A', 'A', 'A', 'T', 'T', 'C', 'T', 'C', 'C', 'T', 'C', 'A', 'G', 'T', 'A', 'T', 'C', 'G', 'A', 'C', 'A', 'T', 'G', 'C', 'A', 'C', 'C', 'G', 'C', 'C', 'G', 'A', 'T', 'A', 'C', 'G', 'T', 'C', 'G', 'A', 'G', 'A', 'T', 'A', 'T', 'A', 'C', 'A', 'G', 'G', 'A', 'C', 'G', 'A', 'G', 'G', 'T', 'G', 'A', 'C', 'A', 'C', 'T', 'T', 'C', 'C', 'T', 'T', 'T', 'T', 'G', 'C', 'G', 'A', 'A', 'C', 'A', 'G', 'T', 'G', 'G', 'A', 'G', 'A', 'A', 'C', 'T', 'A', 'A', 'C', 'A', 'G', 'G', 'T', 'G', 'G', 'C', 'G', 'C', 'T', 'A', 'A', 'C', 'T', 'A', 'C', 'C', 'A', 'A', 'A', 'C', 'T', 'A', 'C', 'T', 'G', 'G', 'G', 'T', 'A', 'A', 'A', 'G', 'G', 'G', 'A', 'A', 'C', 'G', 'A', 'A', 'C', 'A', 'T', 'T', 'T', 'C', 'C', 'T', 'T', 'C', 'A', 'T', 'C', 'C', 'A', 'A', 'T', 'C', 'A', 'T', 'C', 'C', 'C', 'A', 'A', 'A', 'A', 'T', 'C', 'A', 'T', 'A', 'C', 'C', 'C', 'T', 'A', 'G', 'A', 'C', 'C', 'A', 'G', 'G', 'T', 'C', 'T', 'A', 'T', 'T', 'G', 'C', 'C', 'A', 'G', 'G']\n"
     ]
    }
   ],
   "source": [
    "string1 = \"TGCTCGGCTGTCAGCCACGCAACAGCACCGGATCCAAACGCGAAACTTGGCTCATATCCACATACTCGACGCCATCCAAACCAATTCTACTACGGGTCGACGACCAATATACGCGTCCTGCTAGTAATGAAAGCTTTGATTTTCTGGCTCTGGGCGCCCGAGATCAATAGGATGCGCTGCGGAGTCGTTGAAATCCCATCTCTAACAATTGCGCGTTATTGGCTAGAGTGGATAGAGGTGGGCACCACAAAGGCCAACTAATGCTGCGAGGGAAGTGGTCCTCCTGGGCAACCCGTCGTAAATGCTGTACCGTTGACTTGATAGCCTGCCCTAATGGTCATCTAGAGTTGGAGCAGCGCCGTGTACGGGGGCACCCGCAGACGCGGAGGCGTGTCGCGCACTCTGTATTATTAATAGTTCGATCGGTTAAGTCCTACAAGGTTTATGAGACTCTTCGCTCCCCAGCGGACGCTGCATTTCAGCTATGGCTTCTTAGGGAAAATCCCGGTTGTGTTCCGTTCGGAAACTGCGAGGTGCATTGCAAGTTTGCGTCGAAGAGTTTACGCCTAGTGGGTAATACTCGGATCGTTATACCAACAGATCTAGTACGTTCCAGGGTCTAAGTGTTTTGGCAGACCTCATTCCGATCGGGTAACTAAGGATGGGAACTTTCCCCAGTCTCGAATTAGACACCCAAAGTAACCGCAGAGTAGTTCGAGGTCTGATGACTCGCGAGAGGCATGACACATAGTCCCACGCAAATTCTCCTCAGTATCGACATGCACCGCCGATACGTCGAGATATACAGGACGAGGTGACACTTCCTTTTGCGAACAGTGGAGAACTAACAGGTGGCGCTAACTACCAAACTACTGGGTAAAGGGAACGAACATTTCCTTCATCCAATCATCCCAAAATCATACCCTAGACCAGGTCTATTGCCAGG\"\n",
    "list1 = list(string1)\n",
    "print(list1)\n",
    "string2 = \"TCCATTACACACTGATACGGTGAGCTTGGAGGCAGTAAGTCCGTACTCGTCTGGTGGACACAGCCTCTTTGCCCCTAAATCCAGATGTACATGGGGTGTCCGCCGAATAAGCCCTTCCACCGCGTAATTAAGCCGTTGTCATCAAGTGTTGCCGGGCCCATGTTTAATACGTAACTGGACGGACTTGATAAATGCCCCCCAACTGGAATCGGGCCTCATCTACTAGGAGATAAAATGATATGAATCAAACTTGTAAACCTATTTAGCCTGATTCTCGCTCTCTTGCAATGACCTGTCGAATATCATGCATCTTGTCCTGGGTACCCAGCCCTCGTAGCCATCTAGACACGGGTTAGGCCAGTGAGATGCGTAACTCCCCGCCGCGAAGTCTAGATGTTCACACATCGTGGCTTTTATGAGGTCTGGCAAATAGCCTGATGATGTAATAGACTCTTGAATTAGCCGATCGTGCTGTACATCAGTTGTGCAAGACGGAGGAACGAGGGGGCAGTGCTACTTTCCTTTACGGCGTGTGCAAGTAGTAATTTTACTAGAACAGCTGCCGGGTGATGAGCAATAGTCGGAGTATTAAATCCGCAAATCGCGGGCAAGGTTCATCATGAGCAAGATCGGAGGCGGCTATAAAGACTTACCAGTCGGGGATGGCTACTTCACAGTGCTGAAGGTTAATGTGAGTTACATCCGCTTTGCTGAGCAGTGTGAGGGGTGCCCGGGGAGGGAAATGGCAGTCGCCTGGGTCACGTCGGAGTTATATCGACACGCAACTCTCACAAAATGAGGTAACAGTGAGAACGTGCCCCGTATGGGGACACACCGTCTAAACCGAGCAATAAACCTCTGCTCCCAGATGAGTAAACCATGATGTCAATCTATGTTTACCTCCATTAGTGAAAGATGTACCCTTAAATAATGATTAATGCTCACC\"\n",
    "list2 = list(string2)"
   ]
  },
  {
   "cell_type": "code",
   "execution_count": 16,
   "metadata": {},
   "outputs": [
    {
     "name": "stdout",
     "output_type": "stream",
     "text": [
      "Strings are the same length\n",
      "hamming distance is 527\n"
     ]
    }
   ],
   "source": [
    "hammingdistance = 0\n",
    "if len(list1) == len(list2):\n",
    "    print(\"Strings are the same length\")\n",
    "    for x in range(len(list1)):\n",
    "        if list1[x] == list2[x]:\n",
    "            continue\n",
    "        else:\n",
    "            hammingdistance += 1\n",
    "    print(\"hamming distance is\", hammingdistance)\n",
    "    \n",
    "else:\n",
    "    print(\"strings are not the same length\")\n"
   ]
  },
  {
   "cell_type": "code",
   "execution_count": null,
   "metadata": {},
   "outputs": [],
   "source": []
  }
 ],
 "metadata": {
  "kernelspec": {
   "display_name": "Python 3",
   "language": "python",
   "name": "python3"
  },
  "language_info": {
   "codemirror_mode": {
    "name": "ipython",
    "version": 3
   },
   "file_extension": ".py",
   "mimetype": "text/x-python",
   "name": "python",
   "nbconvert_exporter": "python",
   "pygments_lexer": "ipython3",
   "version": "3.8.5"
  }
 },
 "nbformat": 4,
 "nbformat_minor": 4
}
