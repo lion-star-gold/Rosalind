{
 "cells": [
  {
   "cell_type": "code",
   "execution_count": 3,
   "metadata": {},
   "outputs": [],
   "source": []
  },
  {
   "cell_type": "code",
   "execution_count": null,
   "metadata": {},
   "outputs": [],
   "source": []
  },
  {
   "cell_type": "code",
   "execution_count": 267,
   "metadata": {},
   "outputs": [
    {
     "name": "stdout",
     "output_type": "stream",
     "text": [
      "AUGAAACUCUACGUACUUGGCCGCCCUGUCUGGACUGGCGCGAGUUGCACCAAUCCCCAGCACUCUACUAGAGGACGCAGAGGUGGAAGACUCACUAGUGACUCGGCCUCGCCCUUGACUCGUGGAAGAGCAGAGCCAAGACACAGGACCAUGGAGAGAACUUGUGUAUCUAGCAAAUUAGGGGUCAUUCCUGAAGGAUGCCCGACCCAUGGAACAGCCAGCAAUGAUCAUAUGCUCAAGCUUUCACGCGCAGUAGGCCCACAUGUUAGCUCGCUUGUAGAGAGCCAGGCCCGCGUUCCUCCCGGGCUCUGCUGUCGAGAUAAUUACCAUGCUCUUUUUUCUCCAACUCGCUGCCCGCGCCGAUAUAUCAUAGAGUGGCCCUGGUUUUGUUGCCGUACAGGCGUGAGCGUUCUUCUCCUGAUCAUGGUCGUUCUCACCUGGAGGAAGCGGUACACUGCCCCAAACAUUUCUCGCGCACUCGAAAUAGUCGACUGGCGGUCAUCUUGGACACCUAGGCCCACUCCGUGUGCUUGUUCGAAACAGAUAGCCACUGCUGCUGUUCAUAUAUCCCCCACAACUGUUAGACGUGUGAAAACAUUCCUGCAGCGCAAUCAGCCUCUCAUCCCGCUUCGCCGCCAGUCCGCUGUGAUCUCACCGCGCCGUUCGCACGGGCUGAGAGAGAGUCCCUCAAGGGAAGCGGCCCAGUGUCAGCAUUGCUUGUUUGCAGCCCUCAAUGAAUUUCCCAUAGUUCAUCGUAAGACCAAGUUAGGCAAUACCCGGUGCUCAUUCCGCUUUCAAUGUAGCGCGCGUGACGUUAUAGAAUGCGCUUGGGGCACCGACAUUGUAUGGGAAUGGUGCUCGAAAGCGUAUCAACAGGGUUCAGUCAAUCAAGGCGCUUACGAAACUAAGGCGAAAAAUAGUGCCGGCGUUGGUUUCCAGUCAGUCUACGGAUUGGAAUGCACUCAUACGAUGCGACUAUGCCUUCUAUGUUGGGGCCAGCCAUGCAGAUUCAGUCAUCAACGGUGGUGUGAAACAGAAUUUGCGUUAGGACCUCACAGCUACGAGGAUAUACGCUCUCCCCUGCUCGACGUGUUAGCGAGUCAGGUUGUUCUGCGCUGGUGCCACCCAGAGUCAGGGAAACGCAAGCAAAGAAUUGCCGGGGGAUCUAUGAAUUGCCACGUACAGAAGACACACUGCGACGGGAAUUCCGAGUUUCAUUGUGUAACCUUCGGAGGUUACGCCGUAAACCCUAGCCGAAGCGAUCGGGGUCUCCCGGCUUGUCCCCCUGGCCAAGCAGGAUCUGUACGAUGUGCGUCGUCUGUCGCCUCGGCACGACGGCUCAGCACGGCUAGAUACGGUCAGCAGCUGCAAAUACACGCCCAGAGUUUGGUCUCGCCGACAAUAAAUAAUAAUAGUCCCUAUACCUGCCCUCCCUUAGCGUGGCACGUCGUCGGAAAUAGCAAAUCGCGAAGGGGGUUACAUUCAAAUCUGAGCCUCAUACUAGCAACUGAGUCCCAGGUCCCUUAUUUCCUAUUAACGAGGUCACCCAGGUGGAUUUUAAACAUUCACGCAAUUGCUCGUUGGGACUGUGUGCUCGGGGCCAACGUCUCCCUACCCUGGACGGAGGUUCCGCUGAGCCUAUUCUGUGUAAACUUCUCAGAGGACCUUGAAUCGCAUAGGCUCCGCCAUUUCAAACGGAUCCCUGGGCAUUGCCCCCCCUACAAAAUACCGAUGUCGAUCGAGGACGGCGUGGCGCAUGUGGACAACCGUCGAUGGCACCCGGCAGGCUUUCUACGCUGGACAGAAACGUCACCCCCGUGUACAAACCCCACGGGGUACCCUCCUCUUCUUGGCAAACAGCCGCGGAUGGCACUGAUGGUCCACAACUUACUUUUGGGAUUACUAUUUGUGCCUGCAAAAGAGCCCAGCUUCAUUAAAGGCGAAUCGGGUGCCCUGGAGAAGCGAUCCCCGAACCCGUUUGGCAGGGUAAACUUUGUCGAGCGUAACGUCACGGCUGGGGGCUAUUCGUGCAAAUGUACUCGUCAUGCUGUCACGCCAAGAACAGGUCGAGAACGAACAGUGGUUACUAAAGAUUACUCAUCCUGGUGUACGGUGGAUACUUGCGCCACAAACCAUGUUCGCGUGACCCAAGUGUGCCGUUUAAGAUGUAAAGGGAGGUCGAGUCCACAACCGGCUUAUCCCAACGGCCCUGUUCACGGAGAGACGAACCGGUAUUUCCUAUCACACGGUCCCUUUUUGUGCUUGGCAGACGUAGUUGCGUGUCGAAGGGCAACCGGUCGAUACUACGCCGAACCGAACCUCACACUUCCUCAGUAUUUCGUCUCAGUCGGAUUGAAUGGCUGUGGUGUGAUUACUGACCGCCGCGGCCCGGUGUGGACGACGGUCGCAACCCCGGGAUAUGAAAGGGUUCGCCCCCGCUCCUGUACAAGGGCAAACAAGACCAAAUUCUACUACAGAGAAAUAUCUGAGCAACUAACUCGGCAGGCGAAGAUUGCUGUGAGGGAGCAGUUUCUUCCUGAGCACGCGUCAACACCAGGGACCCGGAACGGUUCGCCGUUUUCACAGGCGCAUACUAGUCUGAUCCAAUUGUCAAGAAGCGGCGGUCCCAGCACGUUGGGCUGCUAUAUUUUCCCGGAGCAGCCCAAUGCUUCGGAUUUGUGGCUCGGAAUCUACAUGGUUGAAAAUGUACAGGACUCUUAUUUCCACGUAUAUCGCAUCGAAAGGAGGUCGUGCCAACGGGGACAUCGGACACUCGCUGCAGAAUGGUUAUUUGGGGGGGACCAGAAGACUUGGGUUAGACCCGUAACUGUUACAUGUCGCGGCAAGUCUGCUGGGAAAAAACAGCCCAUGGUCCUUCGUGCCAUAUUGUUGGUAGUUUCGCAUACGCACCACAUGAGAAGCAUAGGGUCCGAUCUGGGCAAAGUUGACUCCAGACACCACACCGGUUCCUAUUUUGCUAACCACGUGCCCAACAAUUCUCGGACAGAAUGCACGCAUAUGUUGGAACUGCUGUUGCCACGUCGUGGCCCCCUACACUGGGAGAUUUUGCCCCGCGUGUGUGCGGUCACAGGAUCGUGGUGGACACGAGAAACCGCGUUUGUGAACGUUGACCUCCGGGGCACGAGAUGGGGGGGUCCGGCCGGUUUGCCCUCGUUGUGGAGCUUACCUAGACAAUUAGGGUCGUCCAGUGUCUACGUGAGUGAUAGCCGCGUCGUGGACGAAUUUCUCCGCAAAACCUCACGGUUCAUUUUAGUGGAUACCGAGUCACCGAAGUCUGCAUCUAUCCAUUCUAUGUCGACGUCCCCAUGCACGUGCGACCAGAUCUUAUACUCGGCGUGCAAAUUCACAGCCGUAGUGUUCUGCCCGCCACGCAAGUUCAUUGAAUACGGACGCAACCAUCCAAGAACUAAGCUUCGCGCGUAUAAUUGUGAGCCCACCAUUAAGCCGGCCAGAGGCAGUGGUCCCGCCACGUGUUGCGUUCCUCACGGCAGGCUGUAUAGACGUGUCCUUGGGACUAGUCCGAGACGUAGGAAAUUCCAGAACAACCGCACUGUUGUCCGUUAUGUCGGGUCUGCCCGAUUCCGAUGGUUCUCAGUCAGGGCCCUCACAUCAGUACAUACGCCUGAACCCCCUGCAUACAUGAAACCCUACCAAUUUAAGUUGACGCCGGUUCAAGCUGGCAGUUGGCGGUGCCCAACUCCCGGUGUGAUCAGCGUCACCUCCUGGAGAGCUGGGUACACUCCGUUCGAUGGUUUGUCACUGAUCGCCACCUUGUCUCUAUUCAUGAUUAGUUACAGCAGUCGUCGGCAUCAUGCGUUUAUCCGUCGCUUGAUGCGCGUAAUUCCACACAAUUGCGUAGAAAGUACUACAGAGCGCGCAGGGUUGUUCAGAGUCUAUCCAAUCAACCUCGCUCUAUGGGGAGUCACACAUGGGGUUUGUCAGAUGGGUCAAAUAGAAACCAACUGUUCCUGCAUCAUAAUUACGCUAUCUCAAGGGAUUUACACCAGGGUGGGGUCUUAUCUGGUUGGCCCGAUCCGCCGUUGCGAUGUUUGCGUCGGCUACUUAAUUGCUGAGGUUUAUCGUUAUUGCGGGUAUCCCCACUAUGAAGACACACAUAUCGAUUGUAAAAGGCCGGUCCAGACGAACUUCCGACCCAACUGGUCUAAGAAUUCAUCGCUAUUGUUGUUUCAUGCGAGCAUAAUGCACGGGCAACUCGGGCUUUACUUGUUGUGCCGCUGGCAGCAACGACAGGUCAUAAGGACAUGCUACCACAUAAAGUGGGCUAAAACACGAUAUACCCUAUUCAGCGUUAAGUUCCAGAAUACGAAGUUACAAAUUCCCUAUAGUCACCCAGUCCGGUUCAAAAUCCGCUCCUACGGACCUCAGGAUCGCACAGAUGCGGCCCGUUGGCGGUCCUUAAGCUCGGUAGGCCACAAGCGUACGACCAGAAUACGGGUCGGAAAAUAUGCGAGCUCAGAUAGACUUCCUUUGCGCACACUAGGCCAGAGCGAGGUCCAGGUUAGAUGGCAAACAUCCUAUGCUGUCCGUUGUUGGCUGGCAAAGAAAAGUAUGGGCCAACUUUCUUCUGCGGCCGCCGGGGUUCGGGGAGCUUAUAGUUGCGGAAUAGUACCAGCGCAAUGGAACGCCCCCGUAACCAGUUCUGGUAUACCCGGGUUAUGUCGUCUUGGUCUACAAUGUCCAUCUGCAUUUGGCAUCACCAUCGAGUCAUCAACGCACAGAGAACCGUGUACGGAGGUGAGAGCACGAUUCGCCUGUAAGCUCUUAGUUACGAGGCGCAAGGUUCUCUCGCGGUCAUCCUUAAGCCGGUUAAGAGAGAGAGUACAGGUAUCGGGAUCCCUAUCAUUAGGUGGACAUUACGUGACUUUCCGUAUCGUACGCUUUCUGAACGGCGUCGGACCAAGUGACUUACCCUAUAGUUUCCCCUUCUUCCUGUCGUCCGACUCUACAAAAGUGUGCGAGCCCCCGCCGGUCGGCUGUGACUCAACGGCCUUACUUAAAAAUGCCAGCCGGGUCGACCGGGAGAGAAAAACGGACCUGGUUCUCUGCGCAUAUCUGCCAUCAGUAUCCCUGGUUCCGCGCUCCGAGGGAACAAUUGAUAAUACGUCCCGGCGGGCAACACUAGCUUGGCCCAGGGGGUGCAAGAGAAACCGGAAUAGUUCCCGUCAGGAGAGAUUUCGCCUACCUGGCCGCGCUUAUGAUUGGAAAAGAGGAAGGAUUACACUCAAUUACCUUCCUCCGUGUCGAAUUAGUAAACGCAGUUCGCGCACUCGAGUUAUUGAUAAUUCGUCGCUCGCACAGCUGAAUGAGCAGCUCAUUCAGUAUGAUUCGCCAUUGUUGUGUUGGAUAGGUGCAGCGGAGGAGACGUGGUUACACCGAUCGGUCCGCGGCUUGUCUCGUCGAGGUCCGGUCAUGGCACGUGUUCAAACGUCUUCUUCAGAUAGGUGCCCUACUGGCAACAGUGCUUGGUCUUCGUUACACUCGGUAGUGACACAUUAUACGGUGACUUCAUCUGCGGCUUCACAAGGAACCACACGGUGUAAGAAUGGUUUUAGGGUCGGUCGACUCCCAGCCUCCGCGCGCUCAGCGUCUCUCGAAAUCAUUCUACAGUUUGACCGUAGACAUCGUGGUCUAGACAGGAAGCGUGGCGCGGCACCUAGCUCGGACGGGUUUACAAAUAGUAUGCACCUCCCCAGGGCCAAUUCAGCGGUGUUGCCGAAUCGCCUCAGGGCACUACUUACGGAGGGACACUCGCUCGCACACACAUACUGCCUCGGCGAUCGCGCGAGCCGCAGACCCUACGUCACAGACAGGCUCAAAACUAGCUGCUCCAAAUCAUUACCACUAACUGACAACGGAGAAGUGCGACAUAAUGUUGCUGGGCCGGACUGCCAAAACCAGUAUCAGGUAUCUGUCUCCGAUCCAAGGGGGGAUAACCCAGGUAUAAAUCCUCAGUCAGAGAUAAAUGCGGCGAGACGACGGUAUAUCGAGAAACCCGACGGUUAUUUCAUCUCACCUAAAUCCCUGUAUGAGAUGCUCAAUGAACGAGUUUCAUCGCAUAGGAGUGCACGAAGCAUUUUCGGGCGUACCGUAAUUCUCACAGCCAACCUAGGGUGGUUCUCGCAGAUUAGAGUACACAGAAAAGGUUUCAGGACUUACUUGGUAGAUACCGCUAAUUUGGCACGUCCUGAAUGGGUCUUUUUGAGGGUGGAAGUAAGAGGCCUCGAUCAGCCAUUGCGUUGCCAAAAGGGUUCCCCAGCUUUCCCUAUGGCUAAAUUAUUCAGCGCUAUGGGUAACCGGUUUAGUCCAAGCUUCAAUCCAAUUACUUGCCGAUAUUAUGUGACCAUUCGAGUAAAGCCACUCGCUAUGCUCGCUGCCUUAGGUAAGCGCUUAGCAGACCAGCAGUACCCUACUAGGCGUUUGCAUGAGUACUUGUCAAGGUGUUGGGAUAUUCUUAAUACUAUAUCUGCUACGGGUCUUUCAAGGCUUCGCUACAGCGCAGCGUCCUGGGUCGAUAUCUCAAGAACGGACUAUACCUUUACGUGCCUCGCGGUUAACCCCGGGGUUAAUAGCGACAUUUCACAACAUGCCAAACCUCAAUUGAUCGCAUGUACGUGUUGCACGACAUGUCUGCCCGAGGCUGCCUCGCUGGGAGUGUCCUCGGCAAAUCAGCGCUAUCAUAGCACCGCGCUCCGGGUAUCAGUGAGCAGCCGGUUUCGCACUCUAAAUUUGCCCGUGAAAUGUUCAGUUACUACGGGGCGGGUUAGGGUGGAUUGCAGCUCCACUUCCCCUACGUCAGCUUCGGUGUUAAGUCCUAUCUCUGUCUUGAGAGUGACUCUUCCUCGGCGGAAAGGAGCCAUCGAGUUAAGUAGAUUUCACAAACUGAUACCUCUAAAUGGGGGCGAACGUCGUACGUUACUGCGACGGUUCAUGAACUCCCCACACAACUUGGCACGCAGAAAUAUAGAUCUGAACGCUAAGGUACUCGCAGGUGGUCAAGGAAGAUGGGGCAUGGUUUCACUUCCCGCAUUUUAUCGCCUCCACUGUCUCAAAGGAAGACAGCUGAUGCAUGGUGGUGACGGCGUUAGACGCCGUAACCAAGUGACAACGAAAGAGCACUGUAUGGCCAGCCCGUUCUGGGCCGAACUGUUUUCAACUAGCUGGAUCCACGAGAGCGGGAGCUUUCUCACACUCACCCUAAGGGCGAGAGAGAAUAAUGUGAUCGUUGGGCCCAAUGAGUGGCACCGCUUGGGCUCAAGCUUUCCCAACUUGCGACUUACUUCCGAGUGUUCUGAUAUACACUUUCGGAAGGGCGUCAUACGGUGUACUCUCUUUUACUACAGUUCGCGGAUAAGGGGUUUGUCAGCUCUGAACUUCCUCCGGUUCGGGUCACCGGAGAGGUCAGAUGGGUCUAAUUGCGAGCAAGUUCAAAUUUAUAGCGAGCCUGUGAUCUAUAAUAUGAAUACAAGCUCUUGUCACUCGGGUAUAGAAAUAGAGUCCGGCUGUGACCGCAGAAUGCAAAGCCCAAUGGUGGACGAUCUGCGAGCGUGUCGCCGCUGCCCCUCUACACUGGCUAUGACUAUUCCACGGCGAGAGUUUGCCUCGGAUCUUGACACAGUCCCGGACUCUGUCGGUGUACCUCGAGUCGUGUACCAGGAAAAUAAUUUGGAGCUCGGAUCGGGCGAACUGAUCCACACGAAAAAGCCACGGUUUAUAGUCGGUCUGAACGUACUUCUAGUGGACUUGUUCCUGCUGUUUAGCGAAGUGAACCUCACCCAAUGGUUAGCUAACAGGACUAUGCCAGUGGUGAUCUCACUCUCUAGUAGAUAUGGAUCGAGGGAUUGCUUUAUCAUUGAUCGCAUUCUUCCGGCCGUCAUAGUAAGUCCCUCUGGCUGCAAGCCUACAUCUGGUGCAACGGAGUCCCAUUGUAACAGCAUGGCGGAGGACGUGUUAAGAGCUAGUUGGUUAAAUGCCAUUCUUGAGCUAGGUUUCGCCUUCCACCAGCCUCCCUGCCUAUCAUGCGCCCCAUGUCGCUUACGUCCUAGGACAAAUAUUGAGUUAGAUUCGAGAACGCUCAAGGGUAAACCCAUAACCAUAUUCAAAGUAGAAGAGAACGCGCAUAGUAGUAAAGCUGCUUUGACCGAAGAGCCACGUCCAUCAAAUCCCAUGAACGUCUUACGCCAUGCCAGUGGAUUGUCAGAUGUUUGGUGCGAUCAACCCGAAACUGCUUUCACGCAGUACGAGCAAGUGAGGUGUAAUUACAAGGAAUAUAUUCUACUGCCGAACGACAUACUUCCUCCCCACAGAGUGUGCGUGGAAGUUUACUACAGAAGCAACCGUGUAUGUCUUUUCCGGAUGAAUGUGUACAAGUGCCAAAACGCAGCAGGCACGGGCUUGGUGCCUUGUCAAUACGUUUCGUGUCAUUCCCUGGGUGCUGUGCAUUUUUUCUGGGAGGACCUAGGCCUAACUCGGCGACAACGGCAAUUGAAAAUAACGUGGGGUUCGCUAUCCCCUUGCUGGUUCCGCGCCCGGUGCCCUAGUAUAGUGAGGUAUCAAUUUUCGACUUAUCAUAUGAAAAUGGUACUCCGGCGGCAUACCGACGCCCAAAUAGAGACAACCGAGGUGGAAGAGUCUUACUUGCCACGGUUGCCAAGUUUCGUGCCUCGACGAGGUGUCCUCUUGUUUCCGGGCCCUAGGAGGAAGUAUGUAAACAAAAAUUUGAAAGCGAUCAGAACAUUACCCUUCCGGUAUAUUGGGCCCUGGGGGCACCAGGAUCGGGGCUCUUGGGCAAACGAAAAGACGCGCAGAAUGGUGAGGAGAAUUGCACUGCCGGCAGCUAAGAAUACCUUUUGCACCUUAGAUCUAUCGGUUCUAAUGGGAGCCUUUUUAGGCGUCGUUCCAGCAUCCAAACGUAUAACCACCAGGAAAGAGACUUCCCAGUCGGUGCCAUACCUGCGGAGGCUCUCUCGAGUUACUAUGAUCGCAUUUUUCAGCGUUGAGCGAGUGGUUCCCGCCACACCAGCGUUUGGGCUAAAAAAUUCGCUAACCAGGAAUGUGAUACAGAGGAGUAAACGCCGCUUUGGCCGUGCGAGCGGAGUGACGUACAUAACCUCAUCGUUCCCAUACACUUACUUUAGCUCCGACGGCAUCAGCACACCAAUGCGUCUAAGGUCGAAGGAUCGAUGGGAAAUUGAGUCUGCGUUCUUCGGGCCUGAUCGCGCGCACGAGAAAUCCCCUCUCUUCCAGCUUUGGCGGGGGUUUAUUUACGCACGUUUAUCGAGGGUAAUUUUACAUACAAAAAUUCUCUGCCGCCCUUAUGUAUUGGACGGGUGUAAUCGGGAUGUGAAACAGUGUACCUUCGUACGUCCACCUGCGCAUUACCUGCGCGGCGGCGCCAGCCUUUAUCUCACGCGCAGCAGACCCAAGGCUGCGCCGGCAACUAGUAGUCAGUCCCCUUUCACGAGCGGAGCGAUCCCCUCACCACAGCCGGAAAUCAGACACAGUUCCUGGACGGCUCGAACUGACAGUGAAUCGACUUCGACCCACUGUUUGCGCCGUGAUAGCAUUUCAUGUGGUCAAGGUGCUUAG\n"
     ]
    }
   ],
   "source": [
    "thing=input()"
   ]
  },
  {
   "cell_type": "code",
   "execution_count": 268,
   "metadata": {},
   "outputs": [],
   "source": [
    "list_ofthing = list(thing)\n",
    "#list_ofthing = list(\"AUGGCCAUGGCGCCCAGAACUGAGAUCAAUAGUACCCGUAUUAACGGGUGA\")"
   ]
  },
  {
   "cell_type": "code",
   "execution_count": 257,
   "metadata": {},
   "outputs": [
    {
     "name": "stdout",
     "output_type": "stream",
     "text": [
      "['p', 'i', 'u', 'p', 'i', 'u']\n"
     ]
    }
   ],
   "source": [
    "print(list_ofthing)"
   ]
  },
  {
   "cell_type": "code",
   "execution_count": 269,
   "metadata": {},
   "outputs": [
    {
     "name": "stdout",
     "output_type": "stream",
     "text": [
      "correct # nucleotides to produce full codon\n"
     ]
    },
    {
     "ename": "IndexError",
     "evalue": "list assignment index out of range",
     "output_type": "error",
     "traceback": [
      "\u001b[1;31m---------------------------------------------------------------------------\u001b[0m",
      "\u001b[1;31mIndexError\u001b[0m                                Traceback (most recent call last)",
      "\u001b[1;32m<ipython-input-269-71deb0c85bc7>\u001b[0m in \u001b[0;36m<module>\u001b[1;34m\u001b[0m\n\u001b[0;32m     12\u001b[0m \u001b[1;31m#    if list_ofthing[x+3] == len(list_ofthing):\u001b[0m\u001b[1;33m\u001b[0m\u001b[1;33m\u001b[0m\u001b[1;33m\u001b[0m\u001b[0m\n\u001b[0;32m     13\u001b[0m \u001b[1;31m#        print(\"sequence complete.\")\u001b[0m\u001b[1;33m\u001b[0m\u001b[1;33m\u001b[0m\u001b[1;33m\u001b[0m\u001b[0m\n\u001b[1;32m---> 14\u001b[1;33m     \u001b[1;32mdel\u001b[0m \u001b[0mlist_ofthing\u001b[0m\u001b[1;33m[\u001b[0m\u001b[0mx\u001b[0m\u001b[1;33m+\u001b[0m\u001b[1;36m1\u001b[0m\u001b[1;33m]\u001b[0m\u001b[1;33m\u001b[0m\u001b[1;33m\u001b[0m\u001b[0m\n\u001b[0m\u001b[0;32m     15\u001b[0m     \u001b[1;32mdel\u001b[0m \u001b[0mlist_ofthing\u001b[0m\u001b[1;33m[\u001b[0m\u001b[0mx\u001b[0m\u001b[1;33m+\u001b[0m\u001b[1;36m1\u001b[0m\u001b[1;33m]\u001b[0m\u001b[1;33m\u001b[0m\u001b[1;33m\u001b[0m\u001b[0m\n\u001b[0;32m     16\u001b[0m \u001b[1;33m\u001b[0m\u001b[0m\n",
      "\u001b[1;31mIndexError\u001b[0m: list assignment index out of range"
     ]
    }
   ],
   "source": [
    "codonlist = []\n",
    "#check codon list is a multiple of 3 first. If not, print message of 'incorrect sequence length for codon production', but continue with processing.\n",
    "if len(list_ofthing)%3 == 0:\n",
    "    print(\"correct # nucleotides to produce full codon\")\n",
    "else:\n",
    "    print(\"not a multiple of 3, incorrect # nucleotides to produce full codon\")\n",
    "\n",
    "for x in range(len(list_ofthing)):\n",
    "    tempcodon = \"\".join(list_ofthing[x:x+3])\n",
    "    codonlist.append(tempcodon)\n",
    "#    print(codonlist)\n",
    "#    if list_ofthing[x+3] == len(list_ofthing):\n",
    "#        print(\"sequence complete.\")\n",
    "    del list_ofthing[x+1]\n",
    "    del list_ofthing[x+1]\n",
    "    \n",
    "    #if list_ofthing[x+1] or list_ofthing[x+2]\n",
    "#want to create a warning message for incomplete codons e.g. when "
   ]
  },
  {
   "cell_type": "code",
   "execution_count": 270,
   "metadata": {},
   "outputs": [
    {
     "name": "stdout",
     "output_type": "stream",
     "text": [
      "['AUG', 'AAA', 'CUC', 'UAC', 'GUA', 'CUU', 'GGC', 'CGC', 'CCU', 'GUC', 'UGG', 'ACU', 'GGC', 'GCG', 'AGU', 'UGC', 'ACC', 'AAU', 'CCC', 'CAG', 'CAC', 'UCU', 'ACU', 'AGA', 'GGA', 'CGC', 'AGA', 'GGU', 'GGA', 'AGA', 'CUC', 'ACU', 'AGU', 'GAC', 'UCG', 'GCC', 'UCG', 'CCC', 'UUG', 'ACU', 'CGU', 'GGA', 'AGA', 'GCA', 'GAG', 'CCA', 'AGA', 'CAC', 'AGG', 'ACC', 'AUG', 'GAG', 'AGA', 'ACU', 'UGU', 'GUA', 'UCU', 'AGC', 'AAA', 'UUA', 'GGG', 'GUC', 'AUU', 'CCU', 'GAA', 'GGA', 'UGC', 'CCG', 'ACC', 'CAU', 'GGA', 'ACA', 'GCC', 'AGC', 'AAU', 'GAU', 'CAU', 'AUG', 'CUC', 'AAG', 'CUU', 'UCA', 'CGC', 'GCA', 'GUA', 'GGC', 'CCA', 'CAU', 'GUU', 'AGC', 'UCG', 'CUU', 'GUA', 'GAG', 'AGC', 'CAG', 'GCC', 'CGC', 'GUU', 'CCU', 'CCC', 'GGG', 'CUC', 'UGC', 'UGU', 'CGA', 'GAU', 'AAU', 'UAC', 'CAU', 'GCU', 'CUU', 'UUU', 'UCU', 'CCA', 'ACU', 'CGC', 'UGC', 'CCG', 'CGC', 'CGA', 'UAU', 'AUC', 'AUA', 'GAG', 'UGG', 'CCC', 'UGG', 'UUU', 'UGU', 'UGC', 'CGU', 'ACA', 'GGC', 'GUG', 'AGC', 'GUU', 'CUU', 'CUC', 'CUG', 'AUC', 'AUG', 'GUC', 'GUU', 'CUC', 'ACC', 'UGG', 'AGG', 'AAG', 'CGG', 'UAC', 'ACU', 'GCC', 'CCA', 'AAC', 'AUU', 'UCU', 'CGC', 'GCA', 'CUC', 'GAA', 'AUA', 'GUC', 'GAC', 'UGG', 'CGG', 'UCA', 'UCU', 'UGG', 'ACA', 'CCU', 'AGG', 'CCC', 'ACU', 'CCG', 'UGU', 'GCU', 'UGU', 'UCG', 'AAA', 'CAG', 'AUA', 'GCC', 'ACU', 'GCU', 'GCU', 'GUU', 'CAU', 'AUA', 'UCC', 'CCC', 'ACA', 'ACU', 'GUU', 'AGA', 'CGU', 'GUG', 'AAA', 'ACA', 'UUC', 'CUG', 'CAG', 'CGC', 'AAU', 'CAG', 'CCU', 'CUC', 'AUC', 'CCG', 'CUU', 'CGC', 'CGC', 'CAG', 'UCC', 'GCU', 'GUG', 'AUC', 'UCA', 'CCG', 'CGC', 'CGU', 'UCG', 'CAC', 'GGG', 'CUG', 'AGA', 'GAG', 'AGU', 'CCC', 'UCA', 'AGG', 'GAA', 'GCG', 'GCC', 'CAG', 'UGU', 'CAG', 'CAU', 'UGC', 'UUG', 'UUU', 'GCA', 'GCC', 'CUC', 'AAU', 'GAA', 'UUU', 'CCC', 'AUA', 'GUU', 'CAU', 'CGU', 'AAG', 'ACC', 'AAG', 'UUA', 'GGC', 'AAU', 'ACC', 'CGG', 'UGC', 'UCA', 'UUC', 'CGC', 'UUU', 'CAA', 'UGU', 'AGC', 'GCG', 'CGU', 'GAC', 'GUU', 'AUA', 'GAA', 'UGC', 'GCU', 'UGG', 'GGC', 'ACC', 'GAC', 'AUU', 'GUA', 'UGG', 'GAA', 'UGG', 'UGC', 'UCG', 'AAA', 'GCG', 'UAU', 'CAA', 'CAG', 'GGU', 'UCA', 'GUC', 'AAU', 'CAA', 'GGC', 'GCU', 'UAC', 'GAA', 'ACU', 'AAG', 'GCG', 'AAA', 'AAU', 'AGU', 'GCC', 'GGC', 'GUU', 'GGU', 'UUC', 'CAG', 'UCA', 'GUC', 'UAC', 'GGA', 'UUG', 'GAA', 'UGC', 'ACU', 'CAU', 'ACG', 'AUG', 'CGA', 'CUA', 'UGC', 'CUU', 'CUA', 'UGU', 'UGG', 'GGC', 'CAG', 'CCA', 'UGC', 'AGA', 'UUC', 'AGU', 'CAU', 'CAA', 'CGG', 'UGG', 'UGU', 'GAA', 'ACA', 'GAA', 'UUU', 'GCG', 'UUA', 'GGA', 'CCU', 'CAC', 'AGC', 'UAC', 'GAG', 'GAU', 'AUA', 'CGC', 'UCU', 'CCC', 'CUG', 'CUC', 'GAC', 'GUG', 'UUA', 'GCG', 'AGU', 'CAG', 'GUU', 'GUU', 'CUG', 'CGC', 'UGG', 'UGC', 'CAC', 'CCA', 'GAG', 'UCA', 'GGG', 'AAA', 'CGC', 'AAG', 'CAA', 'AGA', 'AUU', 'GCC', 'GGG', 'GGA', 'UCU', 'AUG', 'AAU', 'UGC', 'CAC', 'GUA', 'CAG', 'AAG', 'ACA', 'CAC', 'UGC', 'GAC', 'GGG', 'AAU', 'UCC', 'GAG', 'UUU', 'CAU', 'UGU', 'GUA', 'ACC', 'UUC', 'GGA', 'GGU', 'UAC', 'GCC', 'GUA', 'AAC', 'CCU', 'AGC', 'CGA', 'AGC', 'GAU', 'CGG', 'GGU', 'CUC', 'CCG', 'GCU', 'UGU', 'CCC', 'CCU', 'GGC', 'CAA', 'GCA', 'GGA', 'UCU', 'GUA', 'CGA', 'UGU', 'GCG', 'UCG', 'UCU', 'GUC', 'GCC', 'UCG', 'GCA', 'CGA', 'CGG', 'CUC', 'AGC', 'ACG', 'GCU', 'AGA', 'UAC', 'GGU', 'CAG', 'CAG', 'CUG', 'CAA', 'AUA', 'CAC', 'GCC', 'CAG', 'AGU', 'UUG', 'GUC', 'UCG', 'CCG', 'ACA', 'AUA', 'AAU', 'AAU', 'AAU', 'AGU', 'CCC', 'UAU', 'ACC', 'UGC', 'CCU', 'CCC', 'UUA', 'GCG', 'UGG', 'CAC', 'GUC', 'GUC', 'GGA', 'AAU', 'AGC', 'AAA', 'UCG', 'CGA', 'AGG', 'GGG', 'UUA', 'CAU', 'UCA', 'AAU', 'CUG', 'AGC', 'CUC', 'AUA', 'CUA', 'GCA', 'ACU', 'GAG', 'UCC', 'CAG', 'GUC', 'CCU', 'UAU', 'UUC', 'CUA', 'UUA', 'ACG', 'AGG', 'UCA', 'CCC', 'AGG', 'UGG', 'AUU', 'UUA', 'AAC', 'AUU', 'CAC', 'GCA', 'AUU', 'GCU', 'CGU', 'UGG', 'GAC', 'UGU', 'GUG', 'CUC', 'GGG', 'GCC', 'AAC', 'GUC', 'UCC', 'CUA', 'CCC', 'UGG', 'ACG', 'GAG', 'GUU', 'CCG', 'CUG', 'AGC', 'CUA', 'UUC', 'UGU', 'GUA', 'AAC', 'UUC', 'UCA', 'GAG', 'GAC', 'CUU', 'GAA', 'UCG', 'CAU', 'AGG', 'CUC', 'CGC', 'CAU', 'UUC', 'AAA', 'CGG', 'AUC', 'CCU', 'GGG', 'CAU', 'UGC', 'CCC', 'CCC', 'UAC', 'AAA', 'AUA', 'CCG', 'AUG', 'UCG', 'AUC', 'GAG', 'GAC', 'GGC', 'GUG', 'GCG', 'CAU', 'GUG', 'GAC', 'AAC', 'CGU', 'CGA', 'UGG', 'CAC', 'CCG', 'GCA', 'GGC', 'UUU', 'CUA', 'CGC', 'UGG', 'ACA', 'GAA', 'ACG', 'UCA', 'CCC', 'CCG', 'UGU', 'ACA', 'AAC', 'CCC', 'ACG', 'GGG', 'UAC', 'CCU', 'CCU', 'CUU', 'CUU', 'GGC', 'AAA', 'CAG', 'CCG', 'CGG', 'AUG', 'GCA', 'CUG', 'AUG', 'GUC', 'CAC', 'AAC', 'UUA', 'CUU', 'UUG', 'GGA', 'UUA', 'CUA', 'UUU', 'GUG', 'CCU', 'GCA', 'AAA', 'GAG', 'CCC', 'AGC', 'UUC', 'AUU', 'AAA', 'GGC', 'GAA', 'UCG', 'GGU', 'GCC', 'CUG', 'GAG', 'AAG', 'CGA', 'UCC', 'CCG', 'AAC', 'CCG', 'UUU', 'GGC', 'AGG', 'GUA', 'AAC', 'UUU', 'GUC', 'GAG', 'CGU', 'AAC', 'GUC', 'ACG', 'GCU', 'GGG', 'GGC', 'UAU', 'UCG', 'UGC', 'AAA', 'UGU', 'ACU', 'CGU', 'CAU', 'GCU', 'GUC', 'ACG', 'CCA', 'AGA', 'ACA', 'GGU', 'CGA', 'GAA', 'CGA', 'ACA', 'GUG', 'GUU', 'ACU', 'AAA', 'GAU', 'UAC', 'UCA', 'UCC', 'UGG', 'UGU', 'ACG', 'GUG', 'GAU', 'ACU', 'UGC', 'GCC', 'ACA', 'AAC', 'CAU', 'GUU', 'CGC', 'GUG', 'ACC', 'CAA', 'GUG', 'UGC', 'CGU', 'UUA', 'AGA', 'UGU', 'AAA', 'GGG', 'AGG', 'UCG', 'AGU', 'CCA', 'CAA', 'CCG', 'GCU', 'UAU', 'CCC', 'AAC', 'GGC', 'CCU', 'GUU', 'CAC', 'GGA', 'GAG', 'ACG', 'AAC', 'CGG', 'UAU', 'UUC', 'CUA', 'UCA', 'CAC', 'GGU', 'CCC', 'UUU', 'UUG', 'UGC', 'UUG', 'GCA', 'GAC', 'GUA', 'GUU', 'GCG', 'UGU', 'CGA', 'AGG', 'GCA', 'ACC', 'GGU', 'CGA', 'UAC', 'UAC', 'GCC', 'GAA', 'CCG', 'AAC', 'CUC', 'ACA', 'CUU', 'CCU', 'CAG', 'UAU', 'UUC', 'GUC', 'UCA', 'GUC', 'GGA', 'UUG', 'AAU', 'GGC', 'UGU', 'GGU', 'GUG', 'AUU', 'ACU', 'GAC', 'CGC', 'CGC', 'GGC', 'CCG', 'GUG', 'UGG', 'ACG', 'ACG', 'GUC', 'GCA', 'ACC', 'CCG', 'GGA', 'UAU', 'GAA', 'AGG', 'GUU', 'CGC', 'CCC', 'CGC', 'UCC', 'UGU', 'ACA', 'AGG', 'GCA', 'AAC', 'AAG', 'ACC', 'AAA', 'UUC', 'UAC', 'UAC', 'AGA', 'GAA', 'AUA', 'UCU', 'GAG', 'CAA', 'CUA', 'ACU', 'CGG', 'CAG', 'GCG', 'AAG', 'AUU', 'GCU', 'GUG', 'AGG', 'GAG', 'CAG', 'UUU', 'CUU', 'CCU', 'GAG', 'CAC', 'GCG', 'UCA', 'ACA', 'CCA', 'GGG', 'ACC', 'CGG', 'AAC', 'GGU', 'UCG', 'CCG', 'UUU', 'UCA', 'CAG', 'GCG', 'CAU', 'ACU', 'AGU', 'CUG', 'AUC', 'CAA', 'UUG', 'UCA', 'AGA', 'AGC', 'GGC', 'GGU', 'CCC', 'AGC', 'ACG', 'UUG', 'GGC', 'UGC', 'UAU', 'AUU', 'UUC', 'CCG', 'GAG', 'CAG', 'CCC', 'AAU', 'GCU', 'UCG', 'GAU', 'UUG', 'UGG', 'CUC', 'GGA', 'AUC', 'UAC', 'AUG', 'GUU', 'GAA', 'AAU', 'GUA', 'CAG', 'GAC', 'UCU', 'UAU', 'UUC', 'CAC', 'GUA', 'UAU', 'CGC', 'AUC', 'GAA', 'AGG', 'AGG', 'UCG', 'UGC', 'CAA', 'CGG', 'GGA', 'CAU', 'CGG', 'ACA', 'CUC', 'GCU', 'GCA', 'GAA', 'UGG', 'UUA', 'UUU', 'GGG', 'GGG', 'GAC', 'CAG', 'AAG', 'ACU', 'UGG', 'GUU', 'AGA', 'CCC', 'GUA', 'ACU', 'GUU', 'ACA', 'UGU', 'CGC', 'GGC', 'AAG', 'UCU', 'GCU', 'GGG', 'AAA', 'AAA', 'CAG', 'CCC', 'AUG', 'GUC', 'CUU', 'CGU', 'GCC', 'AUA', 'UUG', 'UUG', 'GUA', 'GUU', 'UCG', 'CAU', 'ACG', 'CAC', 'CAC', 'AUG', 'AGA', 'AGC', 'AUA', 'GGG', 'UCC', 'GAU', 'CUG', 'GGC', 'AAA', 'GUU', 'GAC', 'UCC', 'AGA', 'CAC', 'CAC', 'ACC', 'GGU', 'UCC', 'UAU', 'UUU', 'GCU', 'AAC', 'CAC', 'GUG', 'CCC', 'AAC', 'AAU', 'UCU', 'CGG', 'ACA', 'GAA', 'UGC', 'ACG', 'CAU', 'AUG', 'UUG', 'GAA', 'CUG', 'CUG', 'UUG', 'CCA', 'CGU', 'CGU', 'GGC', 'CCC', 'CUA', 'CAC', 'UGG', 'GAG', 'AUU', 'UUG', 'CCC', 'CGC', 'GUG', 'UGU', 'GCG', 'GUC', 'ACA', 'GGA', 'UCG', 'UGG', 'UGG', 'ACA', 'CGA', 'GAA', 'ACC', 'GCG', 'UUU', 'GUG', 'AAC', 'GUU', 'GAC', 'CUC', 'CGG', 'GGC', 'ACG', 'AGA', 'UGG', 'GGG', 'GGU', 'CCG', 'GCC', 'GGU', 'UUG', 'CCC', 'UCG', 'UUG', 'UGG', 'AGC', 'UUA', 'CCU', 'AGA', 'CAA', 'UUA', 'GGG', 'UCG', 'UCC', 'AGU', 'GUC', 'UAC', 'GUG', 'AGU', 'GAU', 'AGC', 'CGC', 'GUC', 'GUG', 'GAC', 'GAA', 'UUU', 'CUC', 'CGC', 'AAA', 'ACC', 'UCA', 'CGG', 'UUC', 'AUU', 'UUA', 'GUG', 'GAU', 'ACC', 'GAG', 'UCA', 'CCG', 'AAG', 'UCU', 'GCA', 'UCU', 'AUC', 'CAU', 'UCU', 'AUG', 'UCG', 'ACG', 'UCC', 'CCA', 'UGC', 'ACG', 'UGC', 'GAC', 'CAG', 'AUC', 'UUA', 'UAC', 'UCG', 'GCG', 'UGC', 'AAA', 'UUC', 'ACA', 'GCC', 'GUA', 'GUG', 'UUC', 'UGC', 'CCG', 'CCA', 'CGC', 'AAG', 'UUC', 'AUU', 'GAA', 'UAC', 'GGA', 'CGC', 'AAC', 'CAU', 'CCA', 'AGA', 'ACU', 'AAG', 'CUU', 'CGC', 'GCG', 'UAU', 'AAU', 'UGU', 'GAG', 'CCC', 'ACC', 'AUU', 'AAG', 'CCG', 'GCC', 'AGA', 'GGC', 'AGU', 'GGU', 'CCC', 'GCC', 'ACG', 'UGU', 'UGC', 'GUU', 'CCU', 'CAC', 'GGC', 'AGG', 'CUG', 'UAU', 'AGA', 'CGU', 'GUC', 'CUU', 'GGG', 'ACU', 'AGU', 'CCG', 'AGA', 'CGU', 'AGG', 'AAA', 'UUC', 'CAG', 'AAC', 'AAC', 'CGC', 'ACU', 'GUU', 'GUC', 'CGU', 'UAU', 'GUC', 'GGG', 'UCU', 'GCC', 'CGA', 'UUC', 'CGA', 'UGG', 'UUC', 'UCA', 'GUC', 'AGG', 'GCC', 'CUC', 'ACA', 'UCA', 'GUA', 'CAU', 'ACG', 'CCU', 'GAA', 'CCC', 'CCU', 'GCA', 'UAC', 'AUG', 'AAA', 'CCC', 'UAC', 'CAA', 'UUU', 'AAG', 'UUG', 'ACG', 'CCG', 'GUU', 'CAA', 'GCU', 'GGC', 'AGU', 'UGG', 'CGG', 'UGC', 'CCA', 'ACU', 'CCC', 'GGU', 'GUG', 'AUC', 'AGC', 'GUC', 'ACC', 'UCC', 'UGG', 'AGA', 'GCU', 'GGG', 'UAC', 'ACU', 'CCG', 'UUC', 'GAU', 'GGU', 'UUG', 'UCA', 'CUG', 'AUC', 'GCC', 'ACC', 'UUG', 'UCU', 'CUA', 'UUC', 'AUG', 'AUU', 'AGU', 'UAC', 'AGC', 'AGU', 'CGU', 'CGG', 'CAU', 'CAU', 'GCG', 'UUU', 'AUC', 'CGU', 'CGC', 'UUG', 'AUG', 'CGC', 'GUA', 'AUU', 'CCA', 'CAC', 'AAU', 'UGC', 'GUA', 'GAA', 'AGU', 'ACU', 'ACA', 'GAG', 'CGC', 'GCA', 'GGG', 'UUG', 'UUC', 'AGA', 'GUC', 'UAU', 'CCA', 'AUC', 'AAC', 'CUC', 'GCU', 'CUA', 'UGG', 'GGA', 'GUC', 'ACA', 'CAU', 'GGG', 'GUU', 'UGU', 'CAG', 'AUG', 'GGU', 'CAA', 'AUA', 'GAA', 'ACC', 'AAC', 'UGU', 'UCC', 'UGC', 'AUC', 'AUA', 'AUU', 'ACG', 'CUA', 'UCU', 'CAA', 'GGG', 'AUU', 'UAC', 'ACC', 'AGG', 'GUG', 'GGG', 'UCU', 'UAU', 'CUG', 'GUU', 'GGC', 'CCG', 'AUC', 'CGC', 'CGU', 'UGC', 'GAU', 'GUU', 'UGC', 'GUC', 'GGC', 'UAC', 'UUA', 'AUU', 'GCU', 'GAG', 'GUU', 'UAU', 'CGU', 'UAU', 'UGC', 'GGG', 'UAU', 'CCC', 'CAC', 'UAU', 'GAA', 'GAC', 'ACA', 'CAU', 'AUC', 'GAU', 'UGU', 'AAA', 'AGG', 'CCG', 'GUC', 'CAG', 'ACG', 'AAC', 'UUC', 'CGA', 'CCC', 'AAC', 'UGG', 'UCU', 'AAG', 'AAU', 'UCA', 'UCG', 'CUA', 'UUG', 'UUG', 'UUU', 'CAU', 'GCG', 'AGC', 'AUA', 'AUG', 'CAC', 'GGG', 'CAA', 'CUC', 'GGG', 'CUU', 'UAC', 'UUG', 'UUG', 'UGC', 'CGC', 'UGG', 'CAG', 'CAA', 'CGA', 'CAG', 'GUC', 'AUA', 'AGG', 'ACA', 'UGC', 'UAC', 'CAC', 'AUA', 'AAG', 'UGG', 'GCU', 'AAA', 'ACA', 'CGA', 'UAU', 'ACC', 'CUA', 'UUC', 'AGC', 'GUU', 'AAG', 'UUC', 'CAG', 'AAU', 'ACG', 'AAG', 'UUA', 'CAA', 'AUU', 'CCC', 'UAU', 'AGU', 'CAC', 'CCA', 'GUC', 'CGG', 'UUC', 'AAA', 'AUC', 'CGC', 'UCC', 'UAC', 'GGA', 'CCU', 'CAG', 'GAU', 'CGC', 'ACA', 'GAU', 'GCG', 'GCC', 'CGU', 'UGG', 'CGG', 'UCC', 'UUA', 'AGC', 'UCG', 'GUA', 'GGC', 'CAC', 'AAG', 'CGU', 'ACG', 'ACC', 'AGA', 'AUA', 'CGG', 'GUC', 'GGA', 'AAA', 'UAU', 'GCG', 'AGC', 'UCA', 'GAU', 'AGA', 'CUU', 'CCU', 'UUG', 'CGC', 'ACA', 'CUA', 'GGC', 'CAG', 'AGC', 'GAG', 'GUC', 'CAG', 'GUU', 'AGA', 'UGG', 'CAA', 'ACA', 'UCC', 'UAU', 'GCU', 'GUC', 'CGU', 'UGU', 'UGG', 'CUG', 'GCA', 'AAG', 'AAA', 'AGU', 'AUG', 'GGC', 'CAA', 'CUU', 'UCU', 'UCU', 'GCG', 'GCC', 'GCC', 'GGG', 'GUU', 'CGG', 'GGA', 'GCU', 'UAU', 'AGU', 'UGC', 'GGA', 'AUA', 'GUA', 'CCA', 'GCG', 'CAA', 'UGG', 'AAC', 'GCC', 'CCC', 'GUA', 'ACC', 'AGU', 'UCU', 'GGU', 'AUA', 'CCC', 'GGG', 'UUA', 'UGU', 'CGU', 'CUU', 'GGU', 'CUA', 'CAA', 'UGU', 'CCA', 'UCU', 'GCA', 'UUU', 'GGC', 'AUC', 'ACC', 'AUC', 'GAG', 'UCA', 'UCA', 'ACG', 'CAC', 'AGA', 'GAA', 'CCG', 'UGU', 'ACG', 'GAG', 'GUG', 'AGA', 'GCA', 'CGA', 'UUC', 'GCC', 'UGU', 'AAG', 'CUC', 'UUA', 'GUU', 'ACG', 'AGG', 'CGC', 'AAG', 'GUU', 'CUC', 'UCG', 'CGG', 'UCA', 'UCC', 'UUA', 'AGC', 'CGG', 'UUA', 'AGA', 'GAG', 'AGA', 'GUA', 'CAG', 'GUA', 'UCG', 'GGA', 'UCC', 'CUA', 'UCA', 'UUA', 'GGU', 'GGA', 'CAU', 'UAC', 'GUG', 'ACU', 'UUC', 'CGU', 'AUC', 'GUA', 'CGC', 'UUU', 'CUG', 'AAC', 'GGC', 'GUC', 'GGA', 'CCA', 'AGU', 'GAC', 'UUA', 'CCC', 'UAU', 'AGU', 'UUC', 'CCC', 'UUC', 'UUC', 'CUG', 'UCG', 'UCC', 'GAC', 'UCU', 'ACA', 'AAA', 'GUG', 'UGC', 'GAG', 'CCC', 'CCG', 'CCG', 'GUC', 'GGC', 'UGU', 'GAC', 'UCA', 'ACG', 'GCC', 'UUA', 'CUU', 'AAA', 'AAU', 'GCC', 'AGC', 'CGG', 'GUC', 'GAC', 'CGG', 'GAG', 'AGA', 'AAA', 'ACG', 'GAC', 'CUG', 'GUU', 'CUC', 'UGC', 'GCA', 'UAU', 'CUG', 'CCA', 'UCA', 'GUA', 'UCC', 'CUG', 'GUU', 'CCG', 'CGC', 'UCC', 'GAG', 'GGA', 'ACA', 'AUU', 'GAU', 'AAU', 'ACG', 'UCC', 'CGG', 'CGG', 'GCA', 'ACA', 'CUA', 'GCU', 'UGG', 'CCC', 'AGG', 'GGG', 'UGC', 'AAG', 'AGA', 'AAC', 'CGG', 'AAU', 'AGU', 'UCC', 'CGU', 'CAG', 'GAG', 'AGA', 'UUU', 'CGC', 'CUA', 'CCU', 'GGC', 'CGC', 'GCU', 'UAU', 'GAU', 'UGG', 'AAA', 'AGA', 'GGA', 'AGG', 'AUU', 'ACA', 'CUC', 'AAU', 'UAC', 'CUU', 'CCU', 'CCG', 'UGU', 'CGA', 'AUU', 'AGU', 'AAA', 'CGC', 'AGU', 'UCG', 'CGC', 'ACU', 'CGA', 'GUU', 'AUU', 'GAU', 'AAU', 'UCG', 'UCG', 'CUC', 'GCA', 'CAG', 'CUG', 'AAU', 'GAG', 'CAG', 'CUC', 'AUU', 'CAG', 'UAU', 'GAU', 'UCG', 'CCA', 'UUG', 'UUG', 'UGU', 'UGG', 'AUA', 'GGU', 'GCA', 'GCG', 'GAG', 'GAG', 'ACG', 'UGG', 'UUA', 'CAC', 'CGA', 'UCG', 'GUC', 'CGC', 'GGC', 'UUG', 'UCU', 'CGU', 'CGA', 'GGU', 'CCG', 'GUC', 'AUG', 'GCA', 'CGU', 'GUU', 'CAA', 'ACG', 'UCU', 'UCU', 'UCA', 'GAU', 'AGG', 'UGC', 'CCU', 'ACU', 'GGC', 'AAC', 'AGU', 'GCU', 'UGG', 'UCU', 'UCG', 'UUA', 'CAC', 'UCG', 'GUA', 'GUG', 'ACA', 'CAU', 'UAU', 'ACG', 'GUG', 'ACU', 'UCA', 'UCU', 'GCG', 'GCU', 'UCA', 'CAA', 'GGA', 'ACC', 'ACA', 'CGG', 'UGU', 'AAG', 'AAU', 'GGU', 'UUU', 'AGG', 'GUC', 'GGU', 'CGA', 'CUC', 'CCA', 'GCC', 'UCC', 'GCG', 'CGC', 'UCA', 'GCG', 'UCU', 'CUC', 'GAA', 'AUC', 'AUU', 'CUA', 'CAG', 'UUU', 'GAC', 'CGU', 'AGA', 'CAU', 'CGU', 'GGU', 'CUA', 'GAC', 'AGG', 'AAG', 'CGU', 'GGC', 'GCG', 'GCA', 'CCU', 'AGC', 'UCG', 'GAC', 'GGG', 'UUU', 'ACA', 'AAU', 'AGU', 'AUG', 'CAC', 'CUC', 'CCC', 'AGG', 'GCC', 'AAU', 'UCA', 'GCG', 'GUG', 'UUG', 'CCG', 'AAU', 'CGC', 'CUC', 'AGG', 'GCA', 'CUA', 'CUU', 'ACG', 'GAG', 'GGA', 'CAC', 'UCG', 'CUC', 'GCA', 'CAC', 'ACA', 'UAC', 'UGC', 'CUC', 'GGC', 'GAU', 'CGC', 'GCG', 'AGC', 'CGC', 'AGA', 'CCC', 'UAC', 'GUC', 'ACA', 'GAC', 'AGG', 'CUC', 'AAA', 'ACU', 'AGC', 'UGC', 'UCC', 'AAA', 'UCA', 'UUA', 'CCA', 'CUA', 'ACU', 'GAC', 'AAC', 'GGA', 'GAA', 'GUG', 'CGA', 'CAU', 'AAU', 'GUU', 'GCU', 'GGG', 'CCG', 'GAC', 'UGC', 'CAA', 'AAC', 'CAG', 'UAU', 'CAG', 'GUA', 'UCU', 'GUC', 'UCC', 'GAU', 'CCA', 'AGG', 'GGG', 'GAU', 'AAC', 'CCA', 'GGU', 'AUA', 'AAU', 'CCU', 'CAG', 'UCA', 'GAG', 'AUA', 'AAU', 'GCG', 'GCG', 'AGA', 'CGA', 'CGG', 'UAU', 'AUC', 'GAG', 'AAA', 'CCC', 'GAC', 'GGU', 'UAU', 'UUC', 'AUC', 'UCA', 'CCU', 'AAA', 'UCC', 'CUG', 'UAU', 'GAG', 'AUG', 'CUC', 'AAU', 'GAA', 'CGA', 'GUU', 'UCA', 'UCG', 'CAU', 'AGG', 'AGU', 'GCA', 'CGA', 'AGC', 'AUU', 'UUC', 'GGG', 'CGU', 'ACC', 'GUA', 'AUU', 'CUC', 'ACA', 'GCC', 'AAC', 'CUA', 'GGG', 'UGG', 'UUC', 'UCG', 'CAG', 'AUU', 'AGA', 'GUA', 'CAC', 'AGA', 'AAA', 'GGU', 'UUC', 'AGG', 'ACU', 'UAC', 'UUG', 'GUA', 'GAU', 'ACC', 'GCU', 'AAU', 'UUG', 'GCA', 'CGU', 'CCU', 'GAA', 'UGG', 'GUC', 'UUU', 'UUG', 'AGG', 'GUG', 'GAA', 'GUA', 'AGA', 'GGC', 'CUC', 'GAU', 'CAG', 'CCA', 'UUG', 'CGU', 'UGC', 'CAA', 'AAG', 'GGU', 'UCC', 'CCA', 'GCU', 'UUC', 'CCU', 'AUG', 'GCU', 'AAA', 'UUA', 'UUC', 'AGC', 'GCU', 'AUG', 'GGU', 'AAC', 'CGG', 'UUU', 'AGU', 'CCA', 'AGC', 'UUC', 'AAU', 'CCA', 'AUU', 'ACU', 'UGC', 'CGA', 'UAU', 'UAU', 'GUG', 'ACC', 'AUU', 'CGA', 'GUA', 'AAG', 'CCA', 'CUC', 'GCU', 'AUG', 'CUC', 'GCU', 'GCC', 'UUA', 'GGU', 'AAG', 'CGC', 'UUA', 'GCA', 'GAC', 'CAG', 'CAG', 'UAC', 'CCU', 'ACU', 'AGG', 'CGU', 'UUG', 'CAU', 'GAG', 'UAC', 'UUG', 'UCA', 'AGG', 'UGU', 'UGG', 'GAU', 'AUU', 'CUU', 'AAU', 'ACU', 'AUA', 'UCU', 'GCU', 'ACG', 'GGU', 'CUU', 'UCA', 'AGG', 'CUU', 'CGC', 'UAC', 'AGC', 'GCA', 'GCG', 'UCC', 'UGG', 'GUC', 'GAU', 'AUC', 'UCA', 'AGA', 'ACG', 'GAC', 'UAU', 'ACC', 'UUU', 'ACG', 'UGC', 'CUC', 'GCG', 'GUU', 'AAC', 'CCC', 'GGG', 'GUU', 'AAU', 'AGC', 'GAC', 'AUU', 'UCA', 'CAA', 'CAU', 'GCC', 'AAA', 'CCU', 'CAA', 'UUG', 'AUC', 'GCA', 'UGU', 'ACG', 'UGU', 'UGC', 'ACG', 'ACA', 'UGU', 'CUG', 'CCC', 'GAG', 'GCU', 'GCC', 'UCG', 'CUG', 'GGA', 'GUG', 'UCC', 'UCG', 'GCA', 'AAU', 'CAG', 'CGC', 'UAU', 'CAU', 'AGC', 'ACC', 'GCG', 'CUC', 'CGG', 'GUA', 'UCA', 'GUG', 'AGC', 'AGC', 'CGG', 'UUU', 'CGC', 'ACU', 'CUA', 'AAU', 'UUG', 'CCC', 'GUG', 'AAA', 'UGU', 'UCA', 'GUU', 'ACU', 'ACG', 'GGG', 'CGG', 'GUU', 'AGG', 'GUG', 'GAU', 'UGC', 'AGC', 'UCC', 'ACU', 'UCC', 'CCU', 'ACG', 'UCA', 'GCU', 'UCG', 'GUG', 'UUA', 'AGU', 'CCU', 'AUC', 'UCU', 'GUC', 'UUG', 'AGA', 'GUG', 'ACU', 'CUU', 'CCU', 'CGG', 'CGG', 'AAA', 'GGA', 'GCC', 'AUC', 'GAG', 'UUA', 'AGU', 'AGA', 'UUU', 'CAC', 'AAA', 'CUG', 'AUA', 'CCU', 'CUA', 'AAU', 'GGG', 'GGC', 'GAA', 'CGU', 'CGU', 'ACG', 'UUA', 'CUG', 'CGA', 'CGG', 'UUC', 'AUG', 'AAC', 'UCC', 'CCA', 'CAC', 'AAC', 'UUG', 'GCA', 'CGC', 'AGA', 'AAU', 'AUA', 'GAU', 'CUG', 'AAC', 'GCU', 'AAG', 'GUA', 'CUC', 'GCA', 'GGU', 'GGU', 'CAA', 'GGA', 'AGA', 'UGG', 'GGC', 'AUG', 'GUU', 'UCA', 'CUU', 'CCC', 'GCA', 'UUU', 'UAU', 'CGC', 'CUC', 'CAC', 'UGU', 'CUC', 'AAA', 'GGA', 'AGA', 'CAG', 'CUG', 'AUG', 'CAU', 'GGU', 'GGU', 'GAC', 'GGC', 'GUU', 'AGA', 'CGC', 'CGU', 'AAC', 'CAA', 'GUG', 'ACA', 'ACG', 'AAA', 'GAG', 'CAC', 'UGU', 'AUG', 'GCC', 'AGC', 'CCG', 'UUC', 'UGG', 'GCC', 'GAA', 'CUG', 'UUU', 'UCA', 'ACU', 'AGC', 'UGG', 'AUC', 'CAC', 'GAG', 'AGC', 'GGG', 'AGC', 'UUU', 'CUC', 'ACA', 'CUC', 'ACC', 'CUA', 'AGG', 'GCG', 'AGA', 'GAG', 'AAU', 'AAU', 'GUG', 'AUC', 'GUU', 'GGG', 'CCC', 'AAU', 'GAG', 'UGG', 'CAC', 'CGC', 'UUG', 'GGC', 'UCA', 'AGC', 'UUU', 'CCC', 'AAC', 'UUG', 'CGA', 'CUU', 'ACU', 'UCC', 'GAG', 'UGU', 'UCU', 'GAU', 'AUA', 'CAC', 'UUU', 'CGG', 'AAG', 'GGC', 'GUC', 'AUA', 'CGG', 'UGU', 'ACU', 'CUC', 'UUU', 'UAC', 'UAC', 'AGU', 'UCG', 'CGG', 'AUA', 'AGG', 'GGU', 'UUG', 'UCA', 'GCU', 'CUG', 'AAC', 'UUC', 'CUC', 'CGG', 'UUC', 'GGG', 'UCA', 'CCG', 'GAG', 'AGG', 'UCA', 'GAU', 'GGG', 'UCU', 'AAU', 'UGC', 'GAG', 'CAA', 'GUU', 'CAA', 'AUU', 'UAU', 'AGC', 'GAG', 'CCU', 'GUG', 'AUC', 'UAU', 'AAU', 'AUG', 'AAU', 'ACA', 'AGC', 'UCU', 'UGU', 'CAC', 'UCG', 'GGU', 'AUA', 'GAA', 'AUA', 'GAG', 'UCC', 'GGC', 'UGU', 'GAC', 'CGC', 'AGA', 'AUG', 'CAA', 'AGC', 'CCA', 'AUG', 'GUG', 'GAC', 'GAU', 'CUG', 'CGA', 'GCG', 'UGU', 'CGC', 'CGC', 'UGC', 'CCC', 'UCU', 'ACA', 'CUG', 'GCU', 'AUG', 'ACU', 'AUU', 'CCA', 'CGG', 'CGA', 'GAG', 'UUU', 'GCC', 'UCG', 'GAU', 'CUU', 'GAC', 'ACA', 'GUC', 'CCG', 'GAC', 'UCU', 'GUC', 'GGU', 'GUA', 'CCU', 'CGA', 'GUC', 'GUG', 'UAC', 'CAG', 'GAA', 'AAU', 'AAU', 'UUG', 'GAG', 'CUC', 'GGA', 'UCG', 'GGC', 'GAA', 'CUG', 'AUC', 'CAC', 'ACG', 'AAA', 'AAG', 'CCA', 'CGG', 'UUU', 'AUA', 'GUC', 'GGU', 'CUG', 'AAC', 'GUA', 'CUU', 'CUA', 'GUG', 'GAC', 'UUG', 'UUC', 'CUG', 'CUG', 'UUU', 'AGC', 'GAA', 'GUG', 'AAC', 'CUC', 'ACC', 'CAA', 'UGG', 'UUA', 'GCU', 'AAC', 'AGG', 'ACU', 'AUG', 'CCA', 'GUG', 'GUG', 'AUC', 'UCA', 'CUC', 'UCU', 'AGU', 'AGA', 'UAU', 'GGA', 'UCG', 'AGG', 'GAU', 'UGC', 'UUU', 'AUC', 'AUU', 'GAU', 'CGC', 'AUU', 'CUU', 'CCG', 'GCC', 'GUC', 'AUA', 'GUA', 'AGU', 'CCC', 'UCU', 'GGC', 'UGC', 'AAG', 'CCU', 'ACA', 'UCU', 'GGU', 'GCA', 'ACG', 'GAG', 'UCC', 'CAU', 'UGU', 'AAC', 'AGC', 'AUG', 'GCG', 'GAG', 'GAC', 'GUG', 'UUA', 'AGA', 'GCU', 'AGU', 'UGG', 'UUA', 'AAU', 'GCC', 'AUU', 'CUU', 'GAG', 'CUA', 'GGU', 'UUC', 'GCC', 'UUC', 'CAC', 'CAG', 'CCU', 'CCC', 'UGC', 'CUA', 'UCA', 'UGC', 'GCC', 'CCA', 'UGU', 'CGC', 'UUA', 'CGU', 'CCU', 'AGG', 'ACA', 'AAU', 'AUU', 'GAG', 'UUA', 'GAU', 'UCG', 'AGA', 'ACG', 'CUC', 'AAG', 'GGU', 'AAA', 'CCC', 'AUA', 'ACC', 'AUA', 'UUC', 'AAA', 'GUA', 'GAA', 'GAG', 'AAC', 'GCG', 'CAU', 'AGU', 'AGU', 'AAA', 'GCU', 'GCU', 'UUG', 'ACC', 'GAA', 'GAG', 'CCA', 'CGU', 'CCA', 'UCA', 'AAU', 'CCC', 'AUG', 'AAC', 'GUC', 'UUA', 'CGC', 'CAU', 'GCC', 'AGU', 'GGA', 'UUG', 'UCA', 'GAU', 'GUU', 'UGG', 'UGC', 'GAU', 'CAA', 'CCC', 'GAA', 'ACU', 'GCU', 'UUC', 'ACG', 'CAG', 'UAC', 'GAG', 'CAA', 'GUG', 'AGG', 'UGU', 'AAU', 'UAC', 'AAG', 'GAA', 'UAU', 'AUU', 'CUA', 'CUG', 'CCG', 'AAC', 'GAC', 'AUA', 'CUU', 'CCU', 'CCC', 'CAC', 'AGA', 'GUG', 'UGC', 'GUG', 'GAA', 'GUU', 'UAC', 'UAC', 'AGA', 'AGC', 'AAC', 'CGU', 'GUA', 'UGU', 'CUU', 'UUC', 'CGG', 'AUG', 'AAU', 'GUG', 'UAC', 'AAG', 'UGC', 'CAA', 'AAC', 'GCA', 'GCA', 'GGC', 'ACG', 'GGC', 'UUG', 'GUG', 'CCU', 'UGU', 'CAA', 'UAC', 'GUU', 'UCG', 'UGU', 'CAU', 'UCC', 'CUG', 'GGU', 'GCU', 'GUG', 'CAU', 'UUU', 'UUC', 'UGG', 'GAG', 'GAC', 'CUA', 'GGC', 'CUA', 'ACU', 'CGG', 'CGA', 'CAA', 'CGG', 'CAA', 'UUG', 'AAA', 'AUA', 'ACG', 'UGG', 'GGU', 'UCG', 'CUA', 'UCC', 'CCU', 'UGC', 'UGG', 'UUC', 'CGC', 'GCC', 'CGG', 'UGC', 'CCU', 'AGU', 'AUA', 'GUG', 'AGG', 'UAU', 'CAA', 'UUU', 'UCG', 'ACU', 'UAU', 'CAU', 'AUG', 'AAA', 'AUG', 'GUA', 'CUC', 'CGG', 'CGG', 'CAU', 'ACC', 'GAC', 'GCC', 'CAA', 'AUA', 'GAG', 'ACA', 'ACC', 'GAG', 'GUG', 'GAA', 'GAG', 'UCU', 'UAC', 'UUG', 'CCA', 'CGG', 'UUG', 'CCA', 'AGU', 'UUC', 'GUG', 'CCU', 'CGA', 'CGA', 'GGU', 'GUC', 'CUC', 'UUG', 'UUU', 'CCG', 'GGC', 'CCU', 'AGG', 'AGG', 'AAG', 'UAU', 'GUA', 'AAC', 'AAA', 'AAU', 'UUG', 'AAA', 'GCG', 'AUC', 'AGA', 'ACA', 'UUA', 'CCC', 'UUC', 'CGG', 'UAU', 'AUU', 'GGG', 'CCC', 'UGG', 'GGG', 'CAC', 'CAG', 'GAU', 'CGG', 'GGC', 'UCU', 'UGG', 'GCA', 'AAC', 'GAA', 'AAG', 'ACG', 'CGC', 'AGA', 'AUG', 'GUG', 'AGG', 'AGA', 'AUU', 'GCA', 'CUG', 'CCG', 'GCA', 'GCU', 'AAG', 'AAU', 'ACC', 'UUU', 'UGC', 'ACC', 'UUA', 'GAU', 'CUA', 'UCG', 'GUU', 'CUA', 'AUG', 'GGA', 'GCC', 'UUU', 'UUA', 'GGC', 'GUC', 'GUU', 'CCA', 'GCA', 'UCC', 'AAA', 'CGU', 'AUA', 'ACC', 'ACC', 'AGG', 'AAA', 'GAG', 'ACU', 'UCC', 'CAG', 'UCG', 'GUG', 'CCA', 'UAC', 'CUG', 'CGG', 'AGG', 'CUC', 'UCU', 'CGA', 'GUU', 'ACU', 'AUG', 'AUC', 'GCA', 'UUU', 'UUC', 'AGC', 'GUU', 'GAG', 'CGA', 'GUG', 'GUU', 'CCC', 'GCC', 'ACA', 'CCA', 'GCG', 'UUU', 'GGG', 'CUA', 'AAA', 'AAU', 'UCG', 'CUA', 'ACC', 'AGG', 'AAU', 'GUG', 'AUA', 'CAG', 'AGG', 'AGU', 'AAA', 'CGC', 'CGC', 'UUU', 'GGC', 'CGU', 'GCG', 'AGC', 'GGA', 'GUG', 'ACG', 'UAC', 'AUA', 'ACC', 'UCA', 'UCG', 'UUC', 'CCA', 'UAC', 'ACU', 'UAC', 'UUU', 'AGC', 'UCC', 'GAC', 'GGC', 'AUC', 'AGC', 'ACA', 'CCA', 'AUG', 'CGU', 'CUA', 'AGG', 'UCG', 'AAG', 'GAU', 'CGA', 'UGG', 'GAA', 'AUU', 'GAG', 'UCU', 'GCG', 'UUC', 'UUC', 'GGG', 'CCU', 'GAU', 'CGC', 'GCG', 'CAC', 'GAG', 'AAA', 'UCC', 'CCU', 'CUC', 'UUC', 'CAG', 'CUU', 'UGG', 'CGG', 'GGG', 'UUU', 'AUU', 'UAC', 'GCA', 'CGU', 'UUA', 'UCG', 'AGG', 'GUA', 'AUU', 'UUA', 'CAU', 'ACA', 'AAA', 'AUU', 'CUC', 'UGC', 'CGC', 'CCU', 'UAU', 'GUA', 'UUG', 'GAC', 'GGG', 'UGU', 'AAU', 'CGG', 'GAU', 'GUG', 'AAA', 'CAG', 'UGU', 'ACC', 'UUC', 'GUA', 'CGU', 'CCA', 'CCU', 'GCG', 'CAU', 'UAC', 'CUG', 'CGC', 'GGC', 'GGC', 'GCC', 'AGC', 'CUU', 'UAU', 'CUC', 'ACG', 'CGC', 'AGC', 'AGA', 'CCC', 'AAG', 'GCU', 'GCG', 'CCG', 'GCA', 'ACU', 'AGU', 'AGU', 'CAG', 'UCC', 'CCU', 'UUC', 'ACG', 'AGC', 'GGA', 'GCG', 'AUC', 'CCC', 'UCA', 'CCA', 'CAG', 'CCG', 'GAA', 'AUC', 'AGA', 'CAC', 'AGU', 'UCC', 'UGG', 'ACG', 'GCU', 'CGA', 'ACU', 'GAC', 'AGU', 'GAA', 'UCG', 'ACU', 'UCG', 'ACC', 'CAC', 'UGU', 'UUG', 'CGC', 'CGU', 'GAU', 'AGC', 'AUU', 'UCA', 'UGU', 'GGU', 'CAA', 'GGU', 'GCU', 'UAG', '']\n"
     ]
    }
   ],
   "source": [
    "print(codonlist)"
   ]
  },
  {
   "cell_type": "code",
   "execution_count": 271,
   "metadata": {},
   "outputs": [],
   "source": [
    "#data table of codons."
   ]
  },
  {
   "cell_type": "code",
   "execution_count": 274,
   "metadata": {},
   "outputs": [],
   "source": [
    "residuestring = \"\"\n",
    "#iterate over codonlist and identify the residue that comes from the codon. add this to residuelist.\n",
    "for x in range(len(codonlist)):\n",
    "    if codonlist[x] == \"UUU\":\n",
    "        residuestring += \"F\" \n",
    "    if codonlist[x] == \"UUC\":\n",
    "        residuestring += \"F\"\n",
    "    if codonlist[x] == \"UUA\":\n",
    "        residuestring += \"L\"\n",
    "    if codonlist[x] == \"UUG\":\n",
    "        residuestring += \"L\"\n",
    "    if codonlist[x] == \"UCU\":\n",
    "        residuestring += \"S\"\n",
    "    if codonlist[x] == \"UCC\":\n",
    "        residuestring += \"S\"\n",
    "    if codonlist[x] == \"UCA\":\n",
    "        residuestring += \"S\"\n",
    "    if codonlist[x] == \"UCG\":\n",
    "        residuestring += \"S\"\n",
    "    if codonlist[x] == \"UAU\":\n",
    "        residuestring += \"Y\"\n",
    "    if codonlist[x] == \"UAC\":\n",
    "        residuestring += \"Y\"\n",
    "    if codonlist[x] == \"UAA\":\n",
    "        residuestring += \"  Stop\"\n",
    "    if codonlist[x] == \"UAG\":\n",
    "        residuestring += \"  Stop\"\n",
    "    if codonlist[x] == \"UGU\":\n",
    "        residuestring += \"C\"\n",
    "    if codonlist[x] == \"UGC\":\n",
    "        residuestring += \"C\"\n",
    "    if codonlist[x] == \"UGA\":\n",
    "        residuestring += \"  Stop\"\n",
    "    if codonlist[x] == \"UGG\":\n",
    "        residuestring += \"W\"\n",
    "    if codonlist[x] == \"CUU\":\n",
    "        residuestring += \"L\"\n",
    "    if codonlist[x] == \"CUC\":\n",
    "        residuestring += \"L\"\n",
    "    if codonlist[x] == \"CUA\":\n",
    "        residuestring += \"L\"\n",
    "    if codonlist[x] == \"CUG\":\n",
    "        residuestring += \"L\"\n",
    "    if codonlist[x] == \"CCU\":\n",
    "        residuestring += \"P\"\n",
    "    if codonlist[x] == \"CCC\":\n",
    "        residuestring += \"P\"\n",
    "    if codonlist[x] == \"CCA\":\n",
    "        residuestring += \"P\"\n",
    "    if codonlist[x] == \"CCG\":\n",
    "        residuestring += \"P\"\n",
    "    if codonlist[x] == \"CAU\":\n",
    "        residuestring += \"H\"\n",
    "    if codonlist[x] == \"CAC\":\n",
    "        residuestring += \"H\"\n",
    "    if codonlist[x] == \"CAA\":\n",
    "        residuestring += \"Q\"\n",
    "    if codonlist[x] == \"CAG\":\n",
    "        residuestring += \"Q\"\n",
    "    if codonlist[x] == \"CGU\":\n",
    "        residuestring += \"R\"\n",
    "    if codonlist[x] == \"CGC\":\n",
    "        residuestring += \"R\"\n",
    "    if codonlist[x] == \"CGA\":\n",
    "        residuestring += \"R\"\n",
    "    if codonlist[x] == \"CGG\":\n",
    "        residuestring += \"R\"\n",
    "    if codonlist[x] == \"AUU\":\n",
    "        residuestring += \"I\"\n",
    "    if codonlist[x] == \"AUC\":\n",
    "        residuestring += \"I\"\n",
    "    if codonlist[x] == \"AUA\":\n",
    "        residuestring += \"I\"\n",
    "    if codonlist[x] == \"AUG\":\n",
    "        residuestring += \"M\"\n",
    "    if codonlist[x] == \"ACU\":\n",
    "        residuestring += \"T\"\n",
    "    if codonlist[x] == \"ACC\":\n",
    "        residuestring += \"T\"\n",
    "    if codonlist[x] == \"ACA\":\n",
    "        residuestring += \"T\"\n",
    "    if codonlist[x] == \"ACG\":\n",
    "        residuestring += \"T\"\n",
    "    if codonlist[x] == \"AAU\":\n",
    "        residuestring += \"N\"\n",
    "    if codonlist[x] == \"AAC\":\n",
    "        residuestring += \"N\"\n",
    "    if codonlist[x] == \"AAA\":\n",
    "        residuestring += \"K\"\n",
    "    if codonlist[x] == \"AAG\":\n",
    "        residuestring += \"K\"\n",
    "    if codonlist[x] == \"AGU\":\n",
    "        residuestring += \"S\"\n",
    "    if codonlist[x] == \"AGC\":\n",
    "        residuestring += \"S\"\n",
    "    if codonlist[x] == \"AGA\":\n",
    "        residuestring += \"R\"\n",
    "    if codonlist[x] == \"AGG\":\n",
    "        residuestring += \"R\"\n",
    "    if codonlist[x] == \"GUU\":\n",
    "        residuestring += \"V\"\n",
    "    if codonlist[x] == \"GUC\":\n",
    "        residuestring += \"V\"\n",
    "    if codonlist[x] == \"GUA\":\n",
    "        residuestring += \"V\"\n",
    "    if codonlist[x] == \"GUG\":\n",
    "        residuestring += \"V\"\n",
    "    if codonlist[x] == \"GCU\":\n",
    "        residuestring += \"A\"\n",
    "    if codonlist[x] == \"GCC\":\n",
    "        residuestring += \"A\"\n",
    "    if codonlist[x] == \"GCA\":\n",
    "        residuestring += \"A\"\n",
    "    if codonlist[x] == \"GCG\":\n",
    "        residuestring += \"A\"\n",
    "    if codonlist[x] == \"GAU\":\n",
    "        residuestring += \"D\"\n",
    "    if codonlist[x] == \"GAC\":\n",
    "        residuestring += \"D\"\n",
    "    if codonlist[x] == \"GAA\":\n",
    "        residuestring += \"E\"\n",
    "    if codonlist[x] == \"GAG\":\n",
    "        residuestring += \"E\"\n",
    "    if codonlist[x] == \"GGU\":\n",
    "        residuestring += \"G\"\n",
    "    if codonlist[x] == \"GGC\":\n",
    "        residuestring += \"G\"\n",
    "    if codonlist[x] == \"GGA\":\n",
    "        residuestring += \"G\"\n",
    "    if codonlist[x] == \"GGG\":\n",
    "        residuestring += \"G\"\n",
    "    #else:\n",
    "    #    residuestring += \" codon not uploaded \"\n",
    "    "
   ]
  },
  {
   "cell_type": "code",
   "execution_count": null,
   "metadata": {},
   "outputs": [],
   "source": []
  },
  {
   "cell_type": "code",
   "execution_count": 275,
   "metadata": {},
   "outputs": [
    {
     "name": "stdout",
     "output_type": "stream",
     "text": [
      "MKLYVLGRPVWTGASCTNPQHSTRGRRGGRLTSDSASPLTRGRAEPRHRTMERTCVSSKLGVIPEGCPTHGTASNDHMLKLSRAVGPHVSSLVESQARVPPGLCCRDNYHALFSPTRCPRRYIIEWPWFCCRTGVSVLLLIMVVLTWRKRYTAPNISRALEIVDWRSSWTPRPTPCACSKQIATAAVHISPTTVRRVKTFLQRNQPLIPLRRQSAVISPRRSHGLRESPSREAAQCQHCLFAALNEFPIVHRKTKLGNTRCSFRFQCSARDVIECAWGTDIVWEWCSKAYQQGSVNQGAYETKAKNSAGVGFQSVYGLECTHTMRLCLLCWGQPCRFSHQRWCETEFALGPHSYEDIRSPLLDVLASQVVLRWCHPESGKRKQRIAGGSMNCHVQKTHCDGNSEFHCVTFGGYAVNPSRSDRGLPACPPGQAGSVRCASSVASARRLSTARYGQQLQIHAQSLVSPTINNNSPYTCPPLAWHVVGNSKSRRGLHSNLSLILATESQVPYFLLTRSPRWILNIHAIARWDCVLGANVSLPWTEVPLSLFCVNFSEDLESHRLRHFKRIPGHCPPYKIPMSIEDGVAHVDNRRWHPAGFLRWTETSPPCTNPTGYPPLLGKQPRMALMVHNLLLGLLFVPAKEPSFIKGESGALEKRSPNPFGRVNFVERNVTAGGYSCKCTRHAVTPRTGRERTVVTKDYSSWCTVDTCATNHVRVTQVCRLRCKGRSSPQPAYPNGPVHGETNRYFLSHGPFLCLADVVACRRATGRYYAEPNLTLPQYFVSVGLNGCGVITDRRGPVWTTVATPGYERVRPRSCTRANKTKFYYREISEQLTRQAKIAVREQFLPEHASTPGTRNGSPFSQAHTSLIQLSRSGGPSTLGCYIFPEQPNASDLWLGIYMVENVQDSYFHVYRIERRSCQRGHRTLAAEWLFGGDQKTWVRPVTVTCRGKSAGKKQPMVLRAILLVVSHTHHMRSIGSDLGKVDSRHHTGSYFANHVPNNSRTECTHMLELLLPRRGPLHWEILPRVCAVTGSWWTRETAFVNVDLRGTRWGGPAGLPSLWSLPRQLGSSSVYVSDSRVVDEFLRKTSRFILVDTESPKSASIHSMSTSPCTCDQILYSACKFTAVVFCPPRKFIEYGRNHPRTKLRAYNCEPTIKPARGSGPATCCVPHGRLYRRVLGTSPRRRKFQNNRTVVRYVGSARFRWFSVRALTSVHTPEPPAYMKPYQFKLTPVQAGSWRCPTPGVISVTSWRAGYTPFDGLSLIATLSLFMISYSSRRHHAFIRRLMRVIPHNCVESTTERAGLFRVYPINLALWGVTHGVCQMGQIETNCSCIIITLSQGIYTRVGSYLVGPIRRCDVCVGYLIAEVYRYCGYPHYEDTHIDCKRPVQTNFRPNWSKNSSLLLFHASIMHGQLGLYLLCRWQQRQVIRTCYHIKWAKTRYTLFSVKFQNTKLQIPYSHPVRFKIRSYGPQDRTDAARWRSLSSVGHKRTTRIRVGKYASSDRLPLRTLGQSEVQVRWQTSYAVRCWLAKKSMGQLSSAAAGVRGAYSCGIVPAQWNAPVTSSGIPGLCRLGLQCPSAFGITIESSTHREPCTEVRARFACKLLVTRRKVLSRSSLSRLRERVQVSGSLSLGGHYVTFRIVRFLNGVGPSDLPYSFPFFLSSDSTKVCEPPPVGCDSTALLKNASRVDRERKTDLVLCAYLPSVSLVPRSEGTIDNTSRRATLAWPRGCKRNRNSSRQERFRLPGRAYDWKRGRITLNYLPPCRISKRSSRTRVIDNSSLAQLNEQLIQYDSPLLCWIGAAEETWLHRSVRGLSRRGPVMARVQTSSSDRCPTGNSAWSSLHSVVTHYTVTSSAASQGTTRCKNGFRVGRLPASARSASLEIILQFDRRHRGLDRKRGAAPSSDGFTNSMHLPRANSAVLPNRLRALLTEGHSLAHTYCLGDRASRRPYVTDRLKTSCSKSLPLTDNGEVRHNVAGPDCQNQYQVSVSDPRGDNPGINPQSEINAARRRYIEKPDGYFISPKSLYEMLNERVSSHRSARSIFGRTVILTANLGWFSQIRVHRKGFRTYLVDTANLARPEWVFLRVEVRGLDQPLRCQKGSPAFPMAKLFSAMGNRFSPSFNPITCRYYVTIRVKPLAMLAALGKRLADQQYPTRRLHEYLSRCWDILNTISATGLSRLRYSAASWVDISRTDYTFTCLAVNPGVNSDISQHAKPQLIACTCCTTCLPEAASLGVSSANQRYHSTALRVSVSSRFRTLNLPVKCSVTTGRVRVDCSSTSPTSASVLSPISVLRVTLPRRKGAIELSRFHKLIPLNGGERRTLLRRFMNSPHNLARRNIDLNAKVLAGGQGRWGMVSLPAFYRLHCLKGRQLMHGGDGVRRRNQVTTKEHCMASPFWAELFSTSWIHESGSFLTLTLRARENNVIVGPNEWHRLGSSFPNLRLTSECSDIHFRKGVIRCTLFYYSSRIRGLSALNFLRFGSPERSDGSNCEQVQIYSEPVIYNMNTSSCHSGIEIESGCDRRMQSPMVDDLRACRRCPSTLAMTIPRREFASDLDTVPDSVGVPRVVYQENNLELGSGELIHTKKPRFIVGLNVLLVDLFLLFSEVNLTQWLANRTMPVVISLSSRYGSRDCFIIDRILPAVIVSPSGCKPTSGATESHCNSMAEDVLRASWLNAILELGFAFHQPPCLSCAPCRLRPRTNIELDSRTLKGKPITIFKVEENAHSSKAALTEEPRPSNPMNVLRHASGLSDVWCDQPETAFTQYEQVRCNYKEYILLPNDILPPHRVCVEVYYRSNRVCLFRMNVYKCQNAAGTGLVPCQYVSCHSLGAVHFFWEDLGLTRRQRQLKITWGSLSPCWFRARCPSIVRYQFSTYHMKMVLRRHTDAQIETTEVEESYLPRLPSFVPRRGVLLFPGPRRKYVNKNLKAIRTLPFRYIGPWGHQDRGSWANEKTRRMVRRIALPAAKNTFCTLDLSVLMGAFLGVVPASKRITTRKETSQSVPYLRRLSRVTMIAFFSVERVVPATPAFGLKNSLTRNVIQRSKRRFGRASGVTYITSSFPYTYFSSDGISTPMRLRSKDRWEIESAFFGPDRAHEKSPLFQLWRGFIYARLSRVILHTKILCRPYVLDGCNRDVKQCTFVRPPAHYLRGGASLYLTRSRPKAAPATSSQSPFTSGAIPSPQPEIRHSSWTARTDSESTSTHCLRRDSISCGQGA  Stop\n"
     ]
    }
   ],
   "source": [
    "print(residuestring)"
   ]
  },
  {
   "cell_type": "code",
   "execution_count": null,
   "metadata": {},
   "outputs": [],
   "source": []
  },
  {
   "cell_type": "code",
   "execution_count": null,
   "metadata": {},
   "outputs": [],
   "source": []
  }
 ],
 "metadata": {
  "kernelspec": {
   "display_name": "Python 3",
   "language": "python",
   "name": "python3"
  },
  "language_info": {
   "codemirror_mode": {
    "name": "ipython",
    "version": 3
   },
   "file_extension": ".py",
   "mimetype": "text/x-python",
   "name": "python",
   "nbconvert_exporter": "python",
   "pygments_lexer": "ipython3",
   "version": "3.8.5"
  }
 },
 "nbformat": 4,
 "nbformat_minor": 4
}
